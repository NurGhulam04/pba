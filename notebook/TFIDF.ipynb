{
  "cells": [
    {
      "cell_type": "markdown",
      "id": "8c953482-bb8c-4da2-b7b7-1a0c4267df9d",
      "metadata": {
        "id": "8c953482-bb8c-4da2-b7b7-1a0c4267df9d"
      },
      "source": [
        "## WEEK 4 tf idf example/ PBA 2025\n",
        "Sentiment Analysis on IMDB dataset\n",
        "\n"
      ]
    },
    {
      "cell_type": "markdown",
      "id": "6b821098-b0f9-41f7-b0a8-ea1d414229f4",
      "metadata": {
        "id": "6b821098-b0f9-41f7-b0a8-ea1d414229f4"
      },
      "source": [
        "#### Sentiment Analysis on IMDB dataset using different classifiers such as LinearSVM, LogisticRegression, NaiveBayes, XGBoost, RandomForest with different kind of embeddings such as TF-IDF, USE, and TF-IDF+USE\n",
        "\n",
        "link IMDB dataset: PBA Gasal 2025\n",
        "https://drive.google.com/drive/folders/1kDZ25BrcPyNGzyrXApu_MRiY4AM-lRYs?usp=sharing"
      ]
    },
    {
      "cell_type": "markdown",
      "id": "1ea8b875-5c15-4c07-a1d4-30c93b6d75a2",
      "metadata": {
        "id": "1ea8b875-5c15-4c07-a1d4-30c93b6d75a2"
      },
      "source": [
        "#### Installing and importing libraries"
      ]
    },
    {
      "cell_type": "code",
      "execution_count": 1,
      "id": "bad7b628-a6ae-401f-aa78-a219dbfe06d2",
      "metadata": {
        "id": "bad7b628-a6ae-401f-aa78-a219dbfe06d2",
        "outputId": "0679c283-ba3f-434a-a53e-5f09ff441f1f",
        "colab": {
          "base_uri": "https://localhost:8080/"
        }
      },
      "outputs": [
        {
          "output_type": "stream",
          "name": "stdout",
          "text": [
            "Requirement already satisfied: nltk in /usr/local/lib/python3.12/dist-packages (3.9.1)\n",
            "Requirement already satisfied: click in /usr/local/lib/python3.12/dist-packages (from nltk) (8.2.1)\n",
            "Requirement already satisfied: joblib in /usr/local/lib/python3.12/dist-packages (from nltk) (1.5.2)\n",
            "Requirement already satisfied: regex>=2021.8.3 in /usr/local/lib/python3.12/dist-packages (from nltk) (2024.11.6)\n",
            "Requirement already satisfied: tqdm in /usr/local/lib/python3.12/dist-packages (from nltk) (4.67.1)\n"
          ]
        }
      ],
      "source": [
        "pip install -U nltk"
      ]
    },
    {
      "cell_type": "code",
      "execution_count": 2,
      "id": "99045f64-0402-474e-906f-46c096be3a15",
      "metadata": {
        "scrolled": true,
        "id": "99045f64-0402-474e-906f-46c096be3a15"
      },
      "outputs": [],
      "source": [
        "#pip install tensorflow"
      ]
    },
    {
      "cell_type": "code",
      "execution_count": 3,
      "id": "a6268605-9bf0-4376-a507-f2a99823c920",
      "metadata": {
        "id": "a6268605-9bf0-4376-a507-f2a99823c920",
        "outputId": "5354bc08-8536-4edf-98df-08c83372a767",
        "colab": {
          "base_uri": "https://localhost:8080/"
        }
      },
      "outputs": [
        {
          "output_type": "stream",
          "name": "stdout",
          "text": [
            "Requirement already satisfied: tensorflow_hub in /usr/local/lib/python3.12/dist-packages (0.16.1)\n",
            "Requirement already satisfied: numpy>=1.12.0 in /usr/local/lib/python3.12/dist-packages (from tensorflow_hub) (2.0.2)\n",
            "Requirement already satisfied: protobuf>=3.19.6 in /usr/local/lib/python3.12/dist-packages (from tensorflow_hub) (5.29.5)\n",
            "Requirement already satisfied: tf-keras>=2.14.1 in /usr/local/lib/python3.12/dist-packages (from tensorflow_hub) (2.19.0)\n",
            "Requirement already satisfied: tensorflow<2.20,>=2.19 in /usr/local/lib/python3.12/dist-packages (from tf-keras>=2.14.1->tensorflow_hub) (2.19.0)\n",
            "Requirement already satisfied: absl-py>=1.0.0 in /usr/local/lib/python3.12/dist-packages (from tensorflow<2.20,>=2.19->tf-keras>=2.14.1->tensorflow_hub) (1.4.0)\n",
            "Requirement already satisfied: astunparse>=1.6.0 in /usr/local/lib/python3.12/dist-packages (from tensorflow<2.20,>=2.19->tf-keras>=2.14.1->tensorflow_hub) (1.6.3)\n",
            "Requirement already satisfied: flatbuffers>=24.3.25 in /usr/local/lib/python3.12/dist-packages (from tensorflow<2.20,>=2.19->tf-keras>=2.14.1->tensorflow_hub) (25.2.10)\n",
            "Requirement already satisfied: gast!=0.5.0,!=0.5.1,!=0.5.2,>=0.2.1 in /usr/local/lib/python3.12/dist-packages (from tensorflow<2.20,>=2.19->tf-keras>=2.14.1->tensorflow_hub) (0.6.0)\n",
            "Requirement already satisfied: google-pasta>=0.1.1 in /usr/local/lib/python3.12/dist-packages (from tensorflow<2.20,>=2.19->tf-keras>=2.14.1->tensorflow_hub) (0.2.0)\n",
            "Requirement already satisfied: libclang>=13.0.0 in /usr/local/lib/python3.12/dist-packages (from tensorflow<2.20,>=2.19->tf-keras>=2.14.1->tensorflow_hub) (18.1.1)\n",
            "Requirement already satisfied: opt-einsum>=2.3.2 in /usr/local/lib/python3.12/dist-packages (from tensorflow<2.20,>=2.19->tf-keras>=2.14.1->tensorflow_hub) (3.4.0)\n",
            "Requirement already satisfied: packaging in /usr/local/lib/python3.12/dist-packages (from tensorflow<2.20,>=2.19->tf-keras>=2.14.1->tensorflow_hub) (25.0)\n",
            "Requirement already satisfied: requests<3,>=2.21.0 in /usr/local/lib/python3.12/dist-packages (from tensorflow<2.20,>=2.19->tf-keras>=2.14.1->tensorflow_hub) (2.32.4)\n",
            "Requirement already satisfied: setuptools in /usr/local/lib/python3.12/dist-packages (from tensorflow<2.20,>=2.19->tf-keras>=2.14.1->tensorflow_hub) (75.2.0)\n",
            "Requirement already satisfied: six>=1.12.0 in /usr/local/lib/python3.12/dist-packages (from tensorflow<2.20,>=2.19->tf-keras>=2.14.1->tensorflow_hub) (1.17.0)\n",
            "Requirement already satisfied: termcolor>=1.1.0 in /usr/local/lib/python3.12/dist-packages (from tensorflow<2.20,>=2.19->tf-keras>=2.14.1->tensorflow_hub) (3.1.0)\n",
            "Requirement already satisfied: typing-extensions>=3.6.6 in /usr/local/lib/python3.12/dist-packages (from tensorflow<2.20,>=2.19->tf-keras>=2.14.1->tensorflow_hub) (4.15.0)\n",
            "Requirement already satisfied: wrapt>=1.11.0 in /usr/local/lib/python3.12/dist-packages (from tensorflow<2.20,>=2.19->tf-keras>=2.14.1->tensorflow_hub) (1.17.3)\n",
            "Requirement already satisfied: grpcio<2.0,>=1.24.3 in /usr/local/lib/python3.12/dist-packages (from tensorflow<2.20,>=2.19->tf-keras>=2.14.1->tensorflow_hub) (1.75.0)\n",
            "Requirement already satisfied: tensorboard~=2.19.0 in /usr/local/lib/python3.12/dist-packages (from tensorflow<2.20,>=2.19->tf-keras>=2.14.1->tensorflow_hub) (2.19.0)\n",
            "Requirement already satisfied: keras>=3.5.0 in /usr/local/lib/python3.12/dist-packages (from tensorflow<2.20,>=2.19->tf-keras>=2.14.1->tensorflow_hub) (3.10.0)\n",
            "Requirement already satisfied: h5py>=3.11.0 in /usr/local/lib/python3.12/dist-packages (from tensorflow<2.20,>=2.19->tf-keras>=2.14.1->tensorflow_hub) (3.14.0)\n",
            "Requirement already satisfied: ml-dtypes<1.0.0,>=0.5.1 in /usr/local/lib/python3.12/dist-packages (from tensorflow<2.20,>=2.19->tf-keras>=2.14.1->tensorflow_hub) (0.5.3)\n",
            "Requirement already satisfied: wheel<1.0,>=0.23.0 in /usr/local/lib/python3.12/dist-packages (from astunparse>=1.6.0->tensorflow<2.20,>=2.19->tf-keras>=2.14.1->tensorflow_hub) (0.45.1)\n",
            "Requirement already satisfied: rich in /usr/local/lib/python3.12/dist-packages (from keras>=3.5.0->tensorflow<2.20,>=2.19->tf-keras>=2.14.1->tensorflow_hub) (13.9.4)\n",
            "Requirement already satisfied: namex in /usr/local/lib/python3.12/dist-packages (from keras>=3.5.0->tensorflow<2.20,>=2.19->tf-keras>=2.14.1->tensorflow_hub) (0.1.0)\n",
            "Requirement already satisfied: optree in /usr/local/lib/python3.12/dist-packages (from keras>=3.5.0->tensorflow<2.20,>=2.19->tf-keras>=2.14.1->tensorflow_hub) (0.17.0)\n",
            "Requirement already satisfied: charset_normalizer<4,>=2 in /usr/local/lib/python3.12/dist-packages (from requests<3,>=2.21.0->tensorflow<2.20,>=2.19->tf-keras>=2.14.1->tensorflow_hub) (3.4.3)\n",
            "Requirement already satisfied: idna<4,>=2.5 in /usr/local/lib/python3.12/dist-packages (from requests<3,>=2.21.0->tensorflow<2.20,>=2.19->tf-keras>=2.14.1->tensorflow_hub) (3.10)\n",
            "Requirement already satisfied: urllib3<3,>=1.21.1 in /usr/local/lib/python3.12/dist-packages (from requests<3,>=2.21.0->tensorflow<2.20,>=2.19->tf-keras>=2.14.1->tensorflow_hub) (2.5.0)\n",
            "Requirement already satisfied: certifi>=2017.4.17 in /usr/local/lib/python3.12/dist-packages (from requests<3,>=2.21.0->tensorflow<2.20,>=2.19->tf-keras>=2.14.1->tensorflow_hub) (2025.8.3)\n",
            "Requirement already satisfied: markdown>=2.6.8 in /usr/local/lib/python3.12/dist-packages (from tensorboard~=2.19.0->tensorflow<2.20,>=2.19->tf-keras>=2.14.1->tensorflow_hub) (3.9)\n",
            "Requirement already satisfied: tensorboard-data-server<0.8.0,>=0.7.0 in /usr/local/lib/python3.12/dist-packages (from tensorboard~=2.19.0->tensorflow<2.20,>=2.19->tf-keras>=2.14.1->tensorflow_hub) (0.7.2)\n",
            "Requirement already satisfied: werkzeug>=1.0.1 in /usr/local/lib/python3.12/dist-packages (from tensorboard~=2.19.0->tensorflow<2.20,>=2.19->tf-keras>=2.14.1->tensorflow_hub) (3.1.3)\n",
            "Requirement already satisfied: MarkupSafe>=2.1.1 in /usr/local/lib/python3.12/dist-packages (from werkzeug>=1.0.1->tensorboard~=2.19.0->tensorflow<2.20,>=2.19->tf-keras>=2.14.1->tensorflow_hub) (3.0.2)\n",
            "Requirement already satisfied: markdown-it-py>=2.2.0 in /usr/local/lib/python3.12/dist-packages (from rich->keras>=3.5.0->tensorflow<2.20,>=2.19->tf-keras>=2.14.1->tensorflow_hub) (4.0.0)\n",
            "Requirement already satisfied: pygments<3.0.0,>=2.13.0 in /usr/local/lib/python3.12/dist-packages (from rich->keras>=3.5.0->tensorflow<2.20,>=2.19->tf-keras>=2.14.1->tensorflow_hub) (2.19.2)\n",
            "Requirement already satisfied: mdurl~=0.1 in /usr/local/lib/python3.12/dist-packages (from markdown-it-py>=2.2.0->rich->keras>=3.5.0->tensorflow<2.20,>=2.19->tf-keras>=2.14.1->tensorflow_hub) (0.1.2)\n"
          ]
        }
      ],
      "source": [
        "pip install tensorflow_hub"
      ]
    },
    {
      "cell_type": "code",
      "execution_count": 4,
      "id": "9a441501-bbe7-4632-8fe8-fb03db387692",
      "metadata": {
        "scrolled": true,
        "id": "9a441501-bbe7-4632-8fe8-fb03db387692"
      },
      "outputs": [],
      "source": [
        "#pip install torch"
      ]
    },
    {
      "cell_type": "code",
      "execution_count": 5,
      "id": "a8c66c42-31d6-48a3-94e1-3106d79e7daa",
      "metadata": {
        "scrolled": true,
        "id": "a8c66c42-31d6-48a3-94e1-3106d79e7daa"
      },
      "outputs": [],
      "source": [
        "#pip install xgboost"
      ]
    },
    {
      "cell_type": "code",
      "execution_count": 6,
      "id": "132e1e9e-c3da-43c8-90fe-3bd93595ad70",
      "metadata": {
        "id": "132e1e9e-c3da-43c8-90fe-3bd93595ad70"
      },
      "outputs": [],
      "source": [
        "import pandas as pd\n",
        "import numpy as np\n",
        "import nltk\n",
        "import re\n",
        "import torch\n",
        "from nltk.corpus import stopwords\n",
        "from nltk.tokenize import word_tokenize\n",
        "import tensorflow as tf\n",
        "import tensorflow_hub as hub\n",
        "from sklearn.model_selection import train_test_split\n",
        "from sklearn.feature_extraction.text import TfidfVectorizer\n",
        "import matplotlib.pyplot as plt"
      ]
    },
    {
      "cell_type": "code",
      "execution_count": 7,
      "id": "661c78ad-de7e-4ac8-9127-67409326149d",
      "metadata": {
        "colab": {
          "base_uri": "https://localhost:8080/"
        },
        "id": "661c78ad-de7e-4ac8-9127-67409326149d",
        "outputId": "47564a5c-c08f-41d2-eb78-c7702c0c10eb"
      },
      "outputs": [
        {
          "output_type": "stream",
          "name": "stderr",
          "text": [
            "[nltk_data] Downloading package stopwords to /root/nltk_data...\n",
            "[nltk_data]   Unzipping corpora/stopwords.zip.\n",
            "[nltk_data] Downloading package words to /root/nltk_data...\n",
            "[nltk_data]   Unzipping corpora/words.zip.\n",
            "[nltk_data] Downloading package wordnet to /root/nltk_data...\n"
          ]
        },
        {
          "output_type": "execute_result",
          "data": {
            "text/plain": [
              "True"
            ]
          },
          "metadata": {},
          "execution_count": 7
        }
      ],
      "source": [
        "nltk.download('stopwords')\n",
        "nltk.download('words')\n",
        "nltk.download('wordnet')"
      ]
    },
    {
      "cell_type": "code",
      "execution_count": 8,
      "id": "55589dba-2bd9-465e-a9a6-37d5d7cfa854",
      "metadata": {
        "id": "55589dba-2bd9-465e-a9a6-37d5d7cfa854",
        "outputId": "fde8a171-9898-4af7-fede-8928f174c298",
        "colab": {
          "base_uri": "https://localhost:8080/"
        }
      },
      "outputs": [
        {
          "output_type": "stream",
          "name": "stderr",
          "text": [
            "[nltk_data] Downloading package punkt_tab to /root/nltk_data...\n",
            "[nltk_data]   Unzipping tokenizers/punkt_tab.zip.\n"
          ]
        },
        {
          "output_type": "execute_result",
          "data": {
            "text/plain": [
              "True"
            ]
          },
          "metadata": {},
          "execution_count": 8
        }
      ],
      "source": [
        "nltk.download('punkt_tab')"
      ]
    },
    {
      "cell_type": "code",
      "execution_count": 9,
      "id": "2fcdf9d5-9ae8-4c82-9d62-d748fe137af7",
      "metadata": {
        "id": "2fcdf9d5-9ae8-4c82-9d62-d748fe137af7"
      },
      "outputs": [],
      "source": [
        "stop_words = set(stopwords.words('indonesian'))"
      ]
    },
    {
      "cell_type": "markdown",
      "id": "7c7f35bc-061d-483b-95fe-a02326ae4f04",
      "metadata": {
        "id": "7c7f35bc-061d-483b-95fe-a02326ae4f04"
      },
      "source": [
        "#### To check is there any GPU available or not"
      ]
    },
    {
      "cell_type": "code",
      "execution_count": 10,
      "id": "cc78859d-0d55-4604-9762-97a9560676b4",
      "metadata": {
        "id": "cc78859d-0d55-4604-9762-97a9560676b4",
        "outputId": "4f16b161-d4bd-4059-8cd2-70ad55287dd6",
        "colab": {
          "base_uri": "https://localhost:8080/"
        }
      },
      "outputs": [
        {
          "output_type": "stream",
          "name": "stdout",
          "text": [
            "GPU is available\n"
          ]
        }
      ],
      "source": [
        "is_cuda = torch.cuda.is_available()\n",
        "\n",
        "# If we have a GPU available, we'll set our device to GPU.\n",
        "if is_cuda:\n",
        "    device = torch.device(\"cuda\")\n",
        "    print(\"GPU is available\")\n",
        "else:\n",
        "    device = torch.device(\"cpu\")\n",
        "    print(\"GPU not available, CPU used\")\n"
      ]
    },
    {
      "cell_type": "markdown",
      "id": "e875605b-c98f-482f-9d71-7e3b7f4075e6",
      "metadata": {
        "id": "e875605b-c98f-482f-9d71-7e3b7f4075e6"
      },
      "source": [
        "#### Load the IMDB dataset for sentiment analysis between positive and negative reviews"
      ]
    },
    {
      "cell_type": "code",
      "source": [
        "from google.colab import drive\n",
        "drive.mount('/content/drive')\n",
        "import pandas as pd\n",
        "\n",
        "file_path = \"/content/drive/MyDrive/PBA/okejek_with_tokens.csv\"\n",
        "\n",
        "df = pd.read_csv(file_path)\n",
        "df = df[[\"content\", \"sentiment_rating\"]]"
      ],
      "metadata": {
        "colab": {
          "base_uri": "https://localhost:8080/"
        },
        "id": "iZ0VvrpxLYDB",
        "outputId": "701a4dc1-2ed1-44a0-bec9-633f24e0c888"
      },
      "id": "iZ0VvrpxLYDB",
      "execution_count": 11,
      "outputs": [
        {
          "output_type": "stream",
          "name": "stdout",
          "text": [
            "Mounted at /content/drive\n"
          ]
        }
      ]
    },
    {
      "cell_type": "code",
      "execution_count": 12,
      "id": "c57b4ef4-0067-4215-8642-2f82d98c8f76",
      "metadata": {
        "id": "c57b4ef4-0067-4215-8642-2f82d98c8f76",
        "outputId": "7980d22f-8526-4c8f-f53f-d5c1d8ba57c8",
        "colab": {
          "base_uri": "https://localhost:8080/",
          "height": 423
        }
      },
      "outputs": [
        {
          "output_type": "execute_result",
          "data": {
            "text/plain": [
              "                                                content sentiment_rating\n",
              "0      sistem chat baik bondowoso hadir sukowono jember         Positive\n",
              "1                      jack kotamobagu banyak drivernya         Positive\n",
              "2                                                   NaN         Positive\n",
              "3                                 mudah mudah jack jaya         Positive\n",
              "4                                                bneran          Neutral\n",
              "...                                                 ...              ...\n",
              "4537                                     lokasi masalah         Negative\n",
              "4538                                      aplikasi blom         Negative\n",
              "4539  dulh nampak drivernga kayak apl belah gak namp...         Negative\n",
              "4540                           promosi tv media digital         Positive\n",
              "4541    daerah kertasemaya jatibarang driver mobil ngga          Neutral\n",
              "\n",
              "[4542 rows x 2 columns]"
            ],
            "text/html": [
              "\n",
              "  <div id=\"df-39130444-f71e-4d4f-a8f8-2d96a84349d6\" class=\"colab-df-container\">\n",
              "    <div>\n",
              "<style scoped>\n",
              "    .dataframe tbody tr th:only-of-type {\n",
              "        vertical-align: middle;\n",
              "    }\n",
              "\n",
              "    .dataframe tbody tr th {\n",
              "        vertical-align: top;\n",
              "    }\n",
              "\n",
              "    .dataframe thead th {\n",
              "        text-align: right;\n",
              "    }\n",
              "</style>\n",
              "<table border=\"1\" class=\"dataframe\">\n",
              "  <thead>\n",
              "    <tr style=\"text-align: right;\">\n",
              "      <th></th>\n",
              "      <th>content</th>\n",
              "      <th>sentiment_rating</th>\n",
              "    </tr>\n",
              "  </thead>\n",
              "  <tbody>\n",
              "    <tr>\n",
              "      <th>0</th>\n",
              "      <td>sistem chat baik bondowoso hadir sukowono jember</td>\n",
              "      <td>Positive</td>\n",
              "    </tr>\n",
              "    <tr>\n",
              "      <th>1</th>\n",
              "      <td>jack kotamobagu banyak drivernya</td>\n",
              "      <td>Positive</td>\n",
              "    </tr>\n",
              "    <tr>\n",
              "      <th>2</th>\n",
              "      <td>NaN</td>\n",
              "      <td>Positive</td>\n",
              "    </tr>\n",
              "    <tr>\n",
              "      <th>3</th>\n",
              "      <td>mudah mudah jack jaya</td>\n",
              "      <td>Positive</td>\n",
              "    </tr>\n",
              "    <tr>\n",
              "      <th>4</th>\n",
              "      <td>bneran</td>\n",
              "      <td>Neutral</td>\n",
              "    </tr>\n",
              "    <tr>\n",
              "      <th>...</th>\n",
              "      <td>...</td>\n",
              "      <td>...</td>\n",
              "    </tr>\n",
              "    <tr>\n",
              "      <th>4537</th>\n",
              "      <td>lokasi masalah</td>\n",
              "      <td>Negative</td>\n",
              "    </tr>\n",
              "    <tr>\n",
              "      <th>4538</th>\n",
              "      <td>aplikasi blom</td>\n",
              "      <td>Negative</td>\n",
              "    </tr>\n",
              "    <tr>\n",
              "      <th>4539</th>\n",
              "      <td>dulh nampak drivernga kayak apl belah gak namp...</td>\n",
              "      <td>Negative</td>\n",
              "    </tr>\n",
              "    <tr>\n",
              "      <th>4540</th>\n",
              "      <td>promosi tv media digital</td>\n",
              "      <td>Positive</td>\n",
              "    </tr>\n",
              "    <tr>\n",
              "      <th>4541</th>\n",
              "      <td>daerah kertasemaya jatibarang driver mobil ngga</td>\n",
              "      <td>Neutral</td>\n",
              "    </tr>\n",
              "  </tbody>\n",
              "</table>\n",
              "<p>4542 rows × 2 columns</p>\n",
              "</div>\n",
              "    <div class=\"colab-df-buttons\">\n",
              "\n",
              "  <div class=\"colab-df-container\">\n",
              "    <button class=\"colab-df-convert\" onclick=\"convertToInteractive('df-39130444-f71e-4d4f-a8f8-2d96a84349d6')\"\n",
              "            title=\"Convert this dataframe to an interactive table.\"\n",
              "            style=\"display:none;\">\n",
              "\n",
              "  <svg xmlns=\"http://www.w3.org/2000/svg\" height=\"24px\" viewBox=\"0 -960 960 960\">\n",
              "    <path d=\"M120-120v-720h720v720H120Zm60-500h600v-160H180v160Zm220 220h160v-160H400v160Zm0 220h160v-160H400v160ZM180-400h160v-160H180v160Zm440 0h160v-160H620v160ZM180-180h160v-160H180v160Zm440 0h160v-160H620v160Z\"/>\n",
              "  </svg>\n",
              "    </button>\n",
              "\n",
              "  <style>\n",
              "    .colab-df-container {\n",
              "      display:flex;\n",
              "      gap: 12px;\n",
              "    }\n",
              "\n",
              "    .colab-df-convert {\n",
              "      background-color: #E8F0FE;\n",
              "      border: none;\n",
              "      border-radius: 50%;\n",
              "      cursor: pointer;\n",
              "      display: none;\n",
              "      fill: #1967D2;\n",
              "      height: 32px;\n",
              "      padding: 0 0 0 0;\n",
              "      width: 32px;\n",
              "    }\n",
              "\n",
              "    .colab-df-convert:hover {\n",
              "      background-color: #E2EBFA;\n",
              "      box-shadow: 0px 1px 2px rgba(60, 64, 67, 0.3), 0px 1px 3px 1px rgba(60, 64, 67, 0.15);\n",
              "      fill: #174EA6;\n",
              "    }\n",
              "\n",
              "    .colab-df-buttons div {\n",
              "      margin-bottom: 4px;\n",
              "    }\n",
              "\n",
              "    [theme=dark] .colab-df-convert {\n",
              "      background-color: #3B4455;\n",
              "      fill: #D2E3FC;\n",
              "    }\n",
              "\n",
              "    [theme=dark] .colab-df-convert:hover {\n",
              "      background-color: #434B5C;\n",
              "      box-shadow: 0px 1px 3px 1px rgba(0, 0, 0, 0.15);\n",
              "      filter: drop-shadow(0px 1px 2px rgba(0, 0, 0, 0.3));\n",
              "      fill: #FFFFFF;\n",
              "    }\n",
              "  </style>\n",
              "\n",
              "    <script>\n",
              "      const buttonEl =\n",
              "        document.querySelector('#df-39130444-f71e-4d4f-a8f8-2d96a84349d6 button.colab-df-convert');\n",
              "      buttonEl.style.display =\n",
              "        google.colab.kernel.accessAllowed ? 'block' : 'none';\n",
              "\n",
              "      async function convertToInteractive(key) {\n",
              "        const element = document.querySelector('#df-39130444-f71e-4d4f-a8f8-2d96a84349d6');\n",
              "        const dataTable =\n",
              "          await google.colab.kernel.invokeFunction('convertToInteractive',\n",
              "                                                    [key], {});\n",
              "        if (!dataTable) return;\n",
              "\n",
              "        const docLinkHtml = 'Like what you see? Visit the ' +\n",
              "          '<a target=\"_blank\" href=https://colab.research.google.com/notebooks/data_table.ipynb>data table notebook</a>'\n",
              "          + ' to learn more about interactive tables.';\n",
              "        element.innerHTML = '';\n",
              "        dataTable['output_type'] = 'display_data';\n",
              "        await google.colab.output.renderOutput(dataTable, element);\n",
              "        const docLink = document.createElement('div');\n",
              "        docLink.innerHTML = docLinkHtml;\n",
              "        element.appendChild(docLink);\n",
              "      }\n",
              "    </script>\n",
              "  </div>\n",
              "\n",
              "\n",
              "    <div id=\"df-62b1822b-de0a-4978-9585-ed5818bc425c\">\n",
              "      <button class=\"colab-df-quickchart\" onclick=\"quickchart('df-62b1822b-de0a-4978-9585-ed5818bc425c')\"\n",
              "                title=\"Suggest charts\"\n",
              "                style=\"display:none;\">\n",
              "\n",
              "<svg xmlns=\"http://www.w3.org/2000/svg\" height=\"24px\"viewBox=\"0 0 24 24\"\n",
              "     width=\"24px\">\n",
              "    <g>\n",
              "        <path d=\"M19 3H5c-1.1 0-2 .9-2 2v14c0 1.1.9 2 2 2h14c1.1 0 2-.9 2-2V5c0-1.1-.9-2-2-2zM9 17H7v-7h2v7zm4 0h-2V7h2v10zm4 0h-2v-4h2v4z\"/>\n",
              "    </g>\n",
              "</svg>\n",
              "      </button>\n",
              "\n",
              "<style>\n",
              "  .colab-df-quickchart {\n",
              "      --bg-color: #E8F0FE;\n",
              "      --fill-color: #1967D2;\n",
              "      --hover-bg-color: #E2EBFA;\n",
              "      --hover-fill-color: #174EA6;\n",
              "      --disabled-fill-color: #AAA;\n",
              "      --disabled-bg-color: #DDD;\n",
              "  }\n",
              "\n",
              "  [theme=dark] .colab-df-quickchart {\n",
              "      --bg-color: #3B4455;\n",
              "      --fill-color: #D2E3FC;\n",
              "      --hover-bg-color: #434B5C;\n",
              "      --hover-fill-color: #FFFFFF;\n",
              "      --disabled-bg-color: #3B4455;\n",
              "      --disabled-fill-color: #666;\n",
              "  }\n",
              "\n",
              "  .colab-df-quickchart {\n",
              "    background-color: var(--bg-color);\n",
              "    border: none;\n",
              "    border-radius: 50%;\n",
              "    cursor: pointer;\n",
              "    display: none;\n",
              "    fill: var(--fill-color);\n",
              "    height: 32px;\n",
              "    padding: 0;\n",
              "    width: 32px;\n",
              "  }\n",
              "\n",
              "  .colab-df-quickchart:hover {\n",
              "    background-color: var(--hover-bg-color);\n",
              "    box-shadow: 0 1px 2px rgba(60, 64, 67, 0.3), 0 1px 3px 1px rgba(60, 64, 67, 0.15);\n",
              "    fill: var(--button-hover-fill-color);\n",
              "  }\n",
              "\n",
              "  .colab-df-quickchart-complete:disabled,\n",
              "  .colab-df-quickchart-complete:disabled:hover {\n",
              "    background-color: var(--disabled-bg-color);\n",
              "    fill: var(--disabled-fill-color);\n",
              "    box-shadow: none;\n",
              "  }\n",
              "\n",
              "  .colab-df-spinner {\n",
              "    border: 2px solid var(--fill-color);\n",
              "    border-color: transparent;\n",
              "    border-bottom-color: var(--fill-color);\n",
              "    animation:\n",
              "      spin 1s steps(1) infinite;\n",
              "  }\n",
              "\n",
              "  @keyframes spin {\n",
              "    0% {\n",
              "      border-color: transparent;\n",
              "      border-bottom-color: var(--fill-color);\n",
              "      border-left-color: var(--fill-color);\n",
              "    }\n",
              "    20% {\n",
              "      border-color: transparent;\n",
              "      border-left-color: var(--fill-color);\n",
              "      border-top-color: var(--fill-color);\n",
              "    }\n",
              "    30% {\n",
              "      border-color: transparent;\n",
              "      border-left-color: var(--fill-color);\n",
              "      border-top-color: var(--fill-color);\n",
              "      border-right-color: var(--fill-color);\n",
              "    }\n",
              "    40% {\n",
              "      border-color: transparent;\n",
              "      border-right-color: var(--fill-color);\n",
              "      border-top-color: var(--fill-color);\n",
              "    }\n",
              "    60% {\n",
              "      border-color: transparent;\n",
              "      border-right-color: var(--fill-color);\n",
              "    }\n",
              "    80% {\n",
              "      border-color: transparent;\n",
              "      border-right-color: var(--fill-color);\n",
              "      border-bottom-color: var(--fill-color);\n",
              "    }\n",
              "    90% {\n",
              "      border-color: transparent;\n",
              "      border-bottom-color: var(--fill-color);\n",
              "    }\n",
              "  }\n",
              "</style>\n",
              "\n",
              "      <script>\n",
              "        async function quickchart(key) {\n",
              "          const quickchartButtonEl =\n",
              "            document.querySelector('#' + key + ' button');\n",
              "          quickchartButtonEl.disabled = true;  // To prevent multiple clicks.\n",
              "          quickchartButtonEl.classList.add('colab-df-spinner');\n",
              "          try {\n",
              "            const charts = await google.colab.kernel.invokeFunction(\n",
              "                'suggestCharts', [key], {});\n",
              "          } catch (error) {\n",
              "            console.error('Error during call to suggestCharts:', error);\n",
              "          }\n",
              "          quickchartButtonEl.classList.remove('colab-df-spinner');\n",
              "          quickchartButtonEl.classList.add('colab-df-quickchart-complete');\n",
              "        }\n",
              "        (() => {\n",
              "          let quickchartButtonEl =\n",
              "            document.querySelector('#df-62b1822b-de0a-4978-9585-ed5818bc425c button');\n",
              "          quickchartButtonEl.style.display =\n",
              "            google.colab.kernel.accessAllowed ? 'block' : 'none';\n",
              "        })();\n",
              "      </script>\n",
              "    </div>\n",
              "\n",
              "  <div id=\"id_f65b8b07-ad67-4f51-b580-7ec52cbf3eef\">\n",
              "    <style>\n",
              "      .colab-df-generate {\n",
              "        background-color: #E8F0FE;\n",
              "        border: none;\n",
              "        border-radius: 50%;\n",
              "        cursor: pointer;\n",
              "        display: none;\n",
              "        fill: #1967D2;\n",
              "        height: 32px;\n",
              "        padding: 0 0 0 0;\n",
              "        width: 32px;\n",
              "      }\n",
              "\n",
              "      .colab-df-generate:hover {\n",
              "        background-color: #E2EBFA;\n",
              "        box-shadow: 0px 1px 2px rgba(60, 64, 67, 0.3), 0px 1px 3px 1px rgba(60, 64, 67, 0.15);\n",
              "        fill: #174EA6;\n",
              "      }\n",
              "\n",
              "      [theme=dark] .colab-df-generate {\n",
              "        background-color: #3B4455;\n",
              "        fill: #D2E3FC;\n",
              "      }\n",
              "\n",
              "      [theme=dark] .colab-df-generate:hover {\n",
              "        background-color: #434B5C;\n",
              "        box-shadow: 0px 1px 3px 1px rgba(0, 0, 0, 0.15);\n",
              "        filter: drop-shadow(0px 1px 2px rgba(0, 0, 0, 0.3));\n",
              "        fill: #FFFFFF;\n",
              "      }\n",
              "    </style>\n",
              "    <button class=\"colab-df-generate\" onclick=\"generateWithVariable('df')\"\n",
              "            title=\"Generate code using this dataframe.\"\n",
              "            style=\"display:none;\">\n",
              "\n",
              "  <svg xmlns=\"http://www.w3.org/2000/svg\" height=\"24px\"viewBox=\"0 0 24 24\"\n",
              "       width=\"24px\">\n",
              "    <path d=\"M7,19H8.4L18.45,9,17,7.55,7,17.6ZM5,21V16.75L18.45,3.32a2,2,0,0,1,2.83,0l1.4,1.43a1.91,1.91,0,0,1,.58,1.4,1.91,1.91,0,0,1-.58,1.4L9.25,21ZM18.45,9,17,7.55Zm-12,3A5.31,5.31,0,0,0,4.9,8.1,5.31,5.31,0,0,0,1,6.5,5.31,5.31,0,0,0,4.9,4.9,5.31,5.31,0,0,0,6.5,1,5.31,5.31,0,0,0,8.1,4.9,5.31,5.31,0,0,0,12,6.5,5.46,5.46,0,0,0,6.5,12Z\"/>\n",
              "  </svg>\n",
              "    </button>\n",
              "    <script>\n",
              "      (() => {\n",
              "      const buttonEl =\n",
              "        document.querySelector('#id_f65b8b07-ad67-4f51-b580-7ec52cbf3eef button.colab-df-generate');\n",
              "      buttonEl.style.display =\n",
              "        google.colab.kernel.accessAllowed ? 'block' : 'none';\n",
              "\n",
              "      buttonEl.onclick = () => {\n",
              "        google.colab.notebook.generateWithVariable('df');\n",
              "      }\n",
              "      })();\n",
              "    </script>\n",
              "  </div>\n",
              "\n",
              "    </div>\n",
              "  </div>\n"
            ],
            "application/vnd.google.colaboratory.intrinsic+json": {
              "type": "dataframe",
              "variable_name": "df",
              "summary": "{\n  \"name\": \"df\",\n  \"rows\": 4542,\n  \"fields\": [\n    {\n      \"column\": \"content\",\n      \"properties\": {\n        \"dtype\": \"string\",\n        \"num_unique_values\": 3417,\n        \"samples\": [\n          \"tambahin barcode husus food tambahin fitur aplikasi\",\n          \"aplikasi gak buka error pasang 2 hp beda error aplikasi buka gak gunain jasa jack nb coba install buka aplikasi hang pesan aplikasi merespon bla bladi hp asus vivo coba samajadi jawab sanggau error kagak tu jawab sukses\",\n          \"3 cek aplikasi food rata2 resto menu 5 10 kendala coba cerita biar bicara\"\n        ],\n        \"semantic_type\": \"\",\n        \"description\": \"\"\n      }\n    },\n    {\n      \"column\": \"sentiment_rating\",\n      \"properties\": {\n        \"dtype\": \"category\",\n        \"num_unique_values\": 3,\n        \"samples\": [\n          \"Positive\",\n          \"Neutral\",\n          \"Negative\"\n        ],\n        \"semantic_type\": \"\",\n        \"description\": \"\"\n      }\n    }\n  ]\n}"
            }
          },
          "metadata": {},
          "execution_count": 12
        }
      ],
      "source": [
        "df = df.sample(frac=1).reset_index(drop=True)\n",
        "df"
      ]
    },
    {
      "cell_type": "markdown",
      "id": "e8f40f61-c36a-4271-b8a0-9f99dcf3702e",
      "metadata": {
        "id": "e8f40f61-c36a-4271-b8a0-9f99dcf3702e"
      },
      "source": [
        "#### Exploratory Data Analysis for IMDB dataset"
      ]
    },
    {
      "cell_type": "code",
      "execution_count": 13,
      "id": "d59fa748-8d70-4ccb-bb29-581fb35f3b09",
      "metadata": {
        "id": "d59fa748-8d70-4ccb-bb29-581fb35f3b09"
      },
      "outputs": [],
      "source": [
        "class EDA():\n",
        "    def get_length_dist(self,data):\n",
        "        rev_len = [len(i) for i in data]\n",
        "        pd.Series(rev_len).hist()\n",
        "        plt.title('Number of types of commets')\n",
        "        plt.xlabel('length')\n",
        "        plt.ylabel('number')\n",
        "        plt.show()\n",
        "        print(pd.Series(rev_len).describe())\n",
        "    def get_class_dist(self,df):\n",
        "        df['sentiment_rating'].replace({2:'Neutral',1:'Positive',0:'Negative'}).value_counts().plot(kind='bar',figsize=(7,4))\n",
        "        plt.title('Number of types')\n",
        "        plt.xlabel('Comment_type')\n",
        "        plt.ylabel('number')\n",
        "        plt.show()\n"
      ]
    },
    {
      "cell_type": "code",
      "execution_count": 14,
      "id": "a927cbb0-0817-4d3d-befc-e15d4bf2d3f7",
      "metadata": {
        "id": "a927cbb0-0817-4d3d-befc-e15d4bf2d3f7",
        "outputId": "924a7c09-960e-4b92-8e9f-3a3dbb028e78",
        "colab": {
          "base_uri": "https://localhost:8080/",
          "height": 1000
        }
      },
      "outputs": [
        {
          "output_type": "display_data",
          "data": {
            "text/plain": [
              "<Figure size 640x480 with 1 Axes>"
            ],
            "image/png": "[encoded data removed]"
          },
          "metadata": {}
        },
        {
          "output_type": "stream",
          "name": "stdout",
          "text": [
            "count    4542.000000\n",
            "mean       34.298107\n",
            "std        41.220016\n",
            "min         1.000000\n",
            "25%         7.000000\n",
            "50%        19.000000\n",
            "75%        46.000000\n",
            "max       337.000000\n",
            "dtype: float64\n"
          ]
        },
        {
          "output_type": "display_data",
          "data": {
            "text/plain": [
              "<Figure size 700x400 with 1 Axes>"
            ],
            "image/png": "[encoded data removed]"
          },
          "metadata": {}
        }
      ],
      "source": [
        "eda = EDA()\n",
        "eda.get_length_dist(df['content'].astype(str))\n",
        "eda.get_class_dist(df)"
      ]
    },
    {
      "cell_type": "markdown",
      "id": "900a5886-128f-4842-87e7-f4de8d03bf00",
      "metadata": {
        "id": "900a5886-128f-4842-87e7-f4de8d03bf00"
      },
      "source": [
        "#### Preprocess the data"
      ]
    },
    {
      "cell_type": "code",
      "execution_count": 15,
      "id": "3c67072b-b6bb-462f-9c2b-e83171f30dd2",
      "metadata": {
        "id": "3c67072b-b6bb-462f-9c2b-e83171f30dd2"
      },
      "outputs": [],
      "source": [
        "def preprocess_text(text):\n",
        "    # Remove HTML tags and strip whitespace\n",
        "    text = re.sub(r'<[^>]*>', '', text)\n",
        "    text = text.strip()\n",
        "    # Remove noisy characters and extra spaces\n",
        "    text = re.sub(r'[^\\w\\s]', '', text)\n",
        "    text = re.sub(r'\\s+', ' ', text)\n",
        "    # Lowercase text\n",
        "    text = text.lower()\n",
        "    # Tokenize text and remove stopwords\n",
        "    words = word_tokenize(text)\n",
        "    words = [word for word in words if word not in stop_words]\n",
        "    return ' '.join(words)\n"
      ]
    },
    {
      "cell_type": "code",
      "execution_count": 16,
      "id": "fd909202-894f-4f81-8142-e3cc03a88c4f",
      "metadata": {
        "id": "fd909202-894f-4f81-8142-e3cc03a88c4f"
      },
      "outputs": [],
      "source": [
        "df['content'] = df['content'].astype(str).apply(preprocess_text)"
      ]
    },
    {
      "cell_type": "code",
      "execution_count": 17,
      "id": "37329de7-7f7f-44a8-82f7-9b7f9b43fc1a",
      "metadata": {
        "id": "37329de7-7f7f-44a8-82f7-9b7f9b43fc1a",
        "outputId": "9ee0c5fc-c34c-47e3-dd27-b7a7e3d20bff",
        "colab": {
          "base_uri": "https://localhost:8080/",
          "height": 711
        }
      },
      "outputs": [
        {
          "output_type": "execute_result",
          "data": {
            "text/plain": [
              "0           sistem chat bondowoso hadir sukowono jember\n",
              "1                             jack kotamobagu drivernya\n",
              "2                                                   nan\n",
              "3                                 mudah mudah jack jaya\n",
              "4                                                bneran\n",
              "5     login bisamending aplikasi anterin gampang ga ...\n",
              "6                     coba daerah jakarta drivernya bom\n",
              "7               jekok food udh adaok massage tunggu lho\n",
              "8                                     habis update eror\n",
              "9                                                   nan\n",
              "10    bagus aplikasi tolong utk belanja tunai batas ...\n",
              "11                                  mantap ongkos murah\n",
              "12                                                keren\n",
              "13                                        good aplikasi\n",
              "14    susah bgt sih mw daftar koneksi dg server pdhl...\n",
              "15                                       quick response\n",
              "16    maaf aplikasi hapus udh diupdate bagus verifik...\n",
              "17                          jack solo ken daftar driver\n",
              "18    mantuldrivernya ramahpesanan cepat sampairecom...\n",
              "19                         mantab drivernya profesional\n",
              "Name: content, dtype: object"
            ],
            "text/html": [
              "<div>\n",
              "<style scoped>\n",
              "    .dataframe tbody tr th:only-of-type {\n",
              "        vertical-align: middle;\n",
              "    }\n",
              "\n",
              "    .dataframe tbody tr th {\n",
              "        vertical-align: top;\n",
              "    }\n",
              "\n",
              "    .dataframe thead th {\n",
              "        text-align: right;\n",
              "    }\n",
              "</style>\n",
              "<table border=\"1\" class=\"dataframe\">\n",
              "  <thead>\n",
              "    <tr style=\"text-align: right;\">\n",
              "      <th></th>\n",
              "      <th>content</th>\n",
              "    </tr>\n",
              "  </thead>\n",
              "  <tbody>\n",
              "    <tr>\n",
              "      <th>0</th>\n",
              "      <td>sistem chat bondowoso hadir sukowono jember</td>\n",
              "    </tr>\n",
              "    <tr>\n",
              "      <th>1</th>\n",
              "      <td>jack kotamobagu drivernya</td>\n",
              "    </tr>\n",
              "    <tr>\n",
              "      <th>2</th>\n",
              "      <td>nan</td>\n",
              "    </tr>\n",
              "    <tr>\n",
              "      <th>3</th>\n",
              "      <td>mudah mudah jack jaya</td>\n",
              "    </tr>\n",
              "    <tr>\n",
              "      <th>4</th>\n",
              "      <td>bneran</td>\n",
              "    </tr>\n",
              "    <tr>\n",
              "      <th>5</th>\n",
              "      <td>login bisamending aplikasi anterin gampang ga ...</td>\n",
              "    </tr>\n",
              "    <tr>\n",
              "      <th>6</th>\n",
              "      <td>coba daerah jakarta drivernya bom</td>\n",
              "    </tr>\n",
              "    <tr>\n",
              "      <th>7</th>\n",
              "      <td>jekok food udh adaok massage tunggu lho</td>\n",
              "    </tr>\n",
              "    <tr>\n",
              "      <th>8</th>\n",
              "      <td>habis update eror</td>\n",
              "    </tr>\n",
              "    <tr>\n",
              "      <th>9</th>\n",
              "      <td>nan</td>\n",
              "    </tr>\n",
              "    <tr>\n",
              "      <th>10</th>\n",
              "      <td>bagus aplikasi tolong utk belanja tunai batas ...</td>\n",
              "    </tr>\n",
              "    <tr>\n",
              "      <th>11</th>\n",
              "      <td>mantap ongkos murah</td>\n",
              "    </tr>\n",
              "    <tr>\n",
              "      <th>12</th>\n",
              "      <td>keren</td>\n",
              "    </tr>\n",
              "    <tr>\n",
              "      <th>13</th>\n",
              "      <td>good aplikasi</td>\n",
              "    </tr>\n",
              "    <tr>\n",
              "      <th>14</th>\n",
              "      <td>susah bgt sih mw daftar koneksi dg server pdhl...</td>\n",
              "    </tr>\n",
              "    <tr>\n",
              "      <th>15</th>\n",
              "      <td>quick response</td>\n",
              "    </tr>\n",
              "    <tr>\n",
              "      <th>16</th>\n",
              "      <td>maaf aplikasi hapus udh diupdate bagus verifik...</td>\n",
              "    </tr>\n",
              "    <tr>\n",
              "      <th>17</th>\n",
              "      <td>jack solo ken daftar driver</td>\n",
              "    </tr>\n",
              "    <tr>\n",
              "      <th>18</th>\n",
              "      <td>mantuldrivernya ramahpesanan cepat sampairecom...</td>\n",
              "    </tr>\n",
              "    <tr>\n",
              "      <th>19</th>\n",
              "      <td>mantab drivernya profesional</td>\n",
              "    </tr>\n",
              "  </tbody>\n",
              "</table>\n",
              "</div><br><label><b>dtype:</b> object</label>"
            ]
          },
          "metadata": {},
          "execution_count": 17
        }
      ],
      "source": [
        "df['content'].head(20)"
      ]
    },
    {
      "cell_type": "markdown",
      "id": "e37091ce-31c6-4dd8-9988-9ee7cc4d35d5",
      "metadata": {
        "id": "e37091ce-31c6-4dd8-9988-9ee7cc4d35d5"
      },
      "source": [
        "#### Split x=feature, y=target"
      ]
    },
    {
      "cell_type": "code",
      "execution_count": 18,
      "id": "fe61434a-ea20-4118-a54d-c790eb52fef7",
      "metadata": {
        "id": "fe61434a-ea20-4118-a54d-c790eb52fef7"
      },
      "outputs": [],
      "source": [
        "x = df['content']\n",
        "y = df['sentiment_rating']"
      ]
    },
    {
      "cell_type": "code",
      "execution_count": 19,
      "id": "d4cd09c0-990a-4fe8-8ef5-d1955359fa4d",
      "metadata": {
        "id": "d4cd09c0-990a-4fe8-8ef5-d1955359fa4d",
        "outputId": "fc5a7cdb-8407-4d32-a234-333b1360e360",
        "colab": {
          "base_uri": "https://localhost:8080/"
        }
      },
      "outputs": [
        {
          "output_type": "execute_result",
          "data": {
            "text/plain": [
              "array([2, 2, 2, ..., 0, 2, 1])"
            ]
          },
          "metadata": {},
          "execution_count": 19
        }
      ],
      "source": [
        "from sklearn.preprocessing import LabelEncoder\n",
        "label_encode = LabelEncoder()\n",
        "Y = label_encode.fit_transform(df['sentiment_rating'])\n",
        "Y"
      ]
    },
    {
      "cell_type": "code",
      "execution_count": 20,
      "id": "a8282f62-b148-47fa-b886-c50a3e120a78",
      "metadata": {
        "id": "a8282f62-b148-47fa-b886-c50a3e120a78",
        "outputId": "23e17ed1-3662-4afb-de10-6aee2427a504",
        "colab": {
          "base_uri": "https://localhost:8080/",
          "height": 458
        }
      },
      "outputs": [
        {
          "output_type": "execute_result",
          "data": {
            "text/plain": [
              "0       Positive\n",
              "1       Positive\n",
              "2       Positive\n",
              "3       Positive\n",
              "4        Neutral\n",
              "          ...   \n",
              "4537    Negative\n",
              "4538    Negative\n",
              "4539    Negative\n",
              "4540    Positive\n",
              "4541     Neutral\n",
              "Name: sentiment_rating, Length: 4542, dtype: object"
            ],
            "text/html": [
              "<div>\n",
              "<style scoped>\n",
              "    .dataframe tbody tr th:only-of-type {\n",
              "        vertical-align: middle;\n",
              "    }\n",
              "\n",
              "    .dataframe tbody tr th {\n",
              "        vertical-align: top;\n",
              "    }\n",
              "\n",
              "    .dataframe thead th {\n",
              "        text-align: right;\n",
              "    }\n",
              "</style>\n",
              "<table border=\"1\" class=\"dataframe\">\n",
              "  <thead>\n",
              "    <tr style=\"text-align: right;\">\n",
              "      <th></th>\n",
              "      <th>sentiment_rating</th>\n",
              "    </tr>\n",
              "  </thead>\n",
              "  <tbody>\n",
              "    <tr>\n",
              "      <th>0</th>\n",
              "      <td>Positive</td>\n",
              "    </tr>\n",
              "    <tr>\n",
              "      <th>1</th>\n",
              "      <td>Positive</td>\n",
              "    </tr>\n",
              "    <tr>\n",
              "      <th>2</th>\n",
              "      <td>Positive</td>\n",
              "    </tr>\n",
              "    <tr>\n",
              "      <th>3</th>\n",
              "      <td>Positive</td>\n",
              "    </tr>\n",
              "    <tr>\n",
              "      <th>4</th>\n",
              "      <td>Neutral</td>\n",
              "    </tr>\n",
              "    <tr>\n",
              "      <th>...</th>\n",
              "      <td>...</td>\n",
              "    </tr>\n",
              "    <tr>\n",
              "      <th>4537</th>\n",
              "      <td>Negative</td>\n",
              "    </tr>\n",
              "    <tr>\n",
              "      <th>4538</th>\n",
              "      <td>Negative</td>\n",
              "    </tr>\n",
              "    <tr>\n",
              "      <th>4539</th>\n",
              "      <td>Negative</td>\n",
              "    </tr>\n",
              "    <tr>\n",
              "      <th>4540</th>\n",
              "      <td>Positive</td>\n",
              "    </tr>\n",
              "    <tr>\n",
              "      <th>4541</th>\n",
              "      <td>Neutral</td>\n",
              "    </tr>\n",
              "  </tbody>\n",
              "</table>\n",
              "<p>4542 rows × 1 columns</p>\n",
              "</div><br><label><b>dtype:</b> object</label>"
            ]
          },
          "metadata": {},
          "execution_count": 20
        }
      ],
      "source": [
        "y"
      ]
    },
    {
      "cell_type": "markdown",
      "id": "58088824-cefd-468d-8e3f-ddd38bbd7b33",
      "metadata": {
        "id": "58088824-cefd-468d-8e3f-ddd38bbd7b33"
      },
      "source": [
        "### Note: 0 represent negative comments and 1 represent positive comments"
      ]
    },
    {
      "cell_type": "markdown",
      "id": "5ec5f3ed-6769-4564-93c2-4dc5bea126ee",
      "metadata": {
        "id": "5ec5f3ed-6769-4564-93c2-4dc5bea126ee"
      },
      "source": [
        "### Split the dataset into training and testing sets\n"
      ]
    },
    {
      "cell_type": "code",
      "execution_count": 21,
      "id": "b1088cf9-4cf8-4f6c-8bdd-f9d22b6f95f0",
      "metadata": {
        "id": "b1088cf9-4cf8-4f6c-8bdd-f9d22b6f95f0"
      },
      "outputs": [],
      "source": [
        "xtrain, xtest, ytrain, ytest = train_test_split(x, Y, test_size=0.2, random_state=42)"
      ]
    },
    {
      "cell_type": "markdown",
      "id": "cf3d9a30-fba2-45f1-9e3b-94b57a2fed23",
      "metadata": {
        "id": "cf3d9a30-fba2-45f1-9e3b-94b57a2fed23"
      },
      "source": [
        "### Create a vocabulary"
      ]
    },
    {
      "cell_type": "code",
      "execution_count": 22,
      "id": "c3c951f4-ff12-4331-af67-f2bce9b2369a",
      "metadata": {
        "id": "c3c951f4-ff12-4331-af67-f2bce9b2369a"
      },
      "outputs": [],
      "source": [
        "# Create a vocabulary\n",
        "from collections import Counter\n",
        "word_counts = Counter(' '.join(xtrain).split())"
      ]
    },
    {
      "cell_type": "markdown",
      "id": "61000921-59d8-4044-87b5-f86f3d72e476",
      "metadata": {
        "id": "61000921-59d8-4044-87b5-f86f3d72e476"
      },
      "source": [
        "### Display each word in the vocabulary along with its count\n"
      ]
    },
    {
      "cell_type": "code",
      "execution_count": 23,
      "id": "75ac5f0d-5a6a-4b74-aad2-5d17d022b4a0",
      "metadata": {
        "scrolled": true,
        "id": "75ac5f0d-5a6a-4b74-aad2-5d17d022b4a0"
      },
      "outputs": [],
      "source": [
        "#for word, count in word_counts.items():\n",
        "    #print(f\"{word}: {count}\")"
      ]
    },
    {
      "cell_type": "code",
      "execution_count": 24,
      "id": "10096e11-e063-4789-b962-28a971fb2f3a",
      "metadata": {
        "scrolled": true,
        "id": "10096e11-e063-4789-b962-28a971fb2f3a"
      },
      "outputs": [],
      "source": [
        "#vocab = [word for word, count in word_counts.most_common()]\n",
        "#vocab"
      ]
    },
    {
      "cell_type": "markdown",
      "id": "7ce2e3c5-7eb9-4a50-a843-0eb8bd6ff860",
      "metadata": {
        "id": "7ce2e3c5-7eb9-4a50-a843-0eb8bd6ff860"
      },
      "source": [
        "### Classification with various classifiers\n",
        "#### 1. Linear SVM\n",
        "#### 2. Logistic Regression (LR)\n",
        "#### 3. Naive Bayes\n",
        "#### 4. XGBoost\n",
        "#### 5. Random Forest"
      ]
    },
    {
      "cell_type": "code",
      "execution_count": 25,
      "id": "aac74f4c-e88b-4ecb-bdec-a7e418a26e59",
      "metadata": {
        "id": "aac74f4c-e88b-4ecb-bdec-a7e418a26e59"
      },
      "outputs": [],
      "source": [
        "#Import libraries\n",
        "from sklearn.svm import LinearSVC\n",
        "from sklearn.linear_model import LogisticRegression\n",
        "from sklearn.naive_bayes import MultinomialNB\n",
        "from xgboost import XGBClassifier\n",
        "from sklearn.ensemble import RandomForestClassifier\n",
        "from sklearn.metrics import accuracy_score, precision_score, recall_score, f1_score, classification_report, confusion_matrix\n",
        "from timeit import default_timer as timer"
      ]
    },
    {
      "cell_type": "markdown",
      "id": "9e3f9410-a5ac-4cc0-9079-b1151b6f4e3b",
      "metadata": {
        "id": "9e3f9410-a5ac-4cc0-9079-b1151b6f4e3b"
      },
      "source": [
        "#### Initialize classifiers"
      ]
    },
    {
      "cell_type": "code",
      "execution_count": 26,
      "id": "f86d8c8b-431c-488b-ad0c-b45b87147668",
      "metadata": {
        "id": "f86d8c8b-431c-488b-ad0c-b45b87147668"
      },
      "outputs": [],
      "source": [
        "svm_classifier = LinearSVC()\n",
        "logistic_regression = LogisticRegression(max_iter=1000)\n",
        "nb_classifier = MultinomialNB()\n",
        "xgboost_classifier = XGBClassifier()\n",
        "random_forest_classifier = RandomForestClassifier(n_estimators=100, max_depth=3, max_features='sqrt', min_samples_leaf=4, bootstrap=True, n_jobs=-1, random_state=0)"
      ]
    },
    {
      "cell_type": "code",
      "execution_count": 46,
      "id": "7e22042f-47bd-4584-aa4a-b6e27c0ff946",
      "metadata": {
        "id": "7e22042f-47bd-4584-aa4a-b6e27c0ff946"
      },
      "outputs": [],
      "source": [
        "def evaluate_model(model, xtest, ytest):\n",
        "    # Make predictions using the model\n",
        "    y_pred = model.predict(xtest)\n",
        "\n",
        "    # Calculate accuracy\n",
        "    accuracy = accuracy_score(ytest, y_pred)\n",
        "    # Calculate precision\n",
        "    precision = precision_score(ytest, y_pred, average=\"macro\")\n",
        "    # Calculate recall\n",
        "    recall = recall_score(ytest, y_pred, average=\"macro\")\n",
        "    # Calculate f1 score\n",
        "    f1 = f1_score(ytest, y_pred, average=\"macro\")\n",
        "    # Generate a classification report and confusion matrix\n",
        "    report = classification_report(ytest, y_pred)\n",
        "    cm = confusion_matrix(ytest, y_pred)\n",
        "    return y_pred, accuracy, precision, recall, f1, report, cm\n"
      ]
    },
    {
      "cell_type": "code",
      "execution_count": 38,
      "id": "5c560565-5c90-449c-a93e-941939bfa5f8",
      "metadata": {
        "id": "5c560565-5c90-449c-a93e-941939bfa5f8"
      },
      "outputs": [],
      "source": [
        "# Define batch size\n",
        "batch_size = 1000"
      ]
    },
    {
      "cell_type": "markdown",
      "id": "9a54a355-1c98-44e9-9fb5-14d99b480013",
      "metadata": {
        "id": "9a54a355-1c98-44e9-9fb5-14d99b480013"
      },
      "source": [
        "## 1. TF-IDF"
      ]
    },
    {
      "cell_type": "markdown",
      "id": "a2f7b368-860d-4cb2-9e9b-a28b457f9a81",
      "metadata": {
        "id": "a2f7b368-860d-4cb2-9e9b-a28b457f9a81"
      },
      "source": [
        "#### TF-IDF Vectorization\n"
      ]
    },
    {
      "cell_type": "code",
      "execution_count": 39,
      "id": "68886848-7170-403c-b6a3-9e10698cdfc3",
      "metadata": {
        "id": "68886848-7170-403c-b6a3-9e10698cdfc3"
      },
      "outputs": [],
      "source": [
        "tfidf_vectorizer = TfidfVectorizer(max_features=5000)\n",
        "tfidf_vectorizer_xtrain = tfidf_vectorizer.fit_transform(xtrain)\n",
        "tfidf_vectorizer_xtest = tfidf_vectorizer.transform(xtest)\n"
      ]
    },
    {
      "cell_type": "markdown",
      "id": "313399cb-be7e-4722-9dd7-9c51610cd49a",
      "metadata": {
        "id": "313399cb-be7e-4722-9dd7-9c51610cd49a"
      },
      "source": [
        "##### Process the data in smaller batches for training data\n"
      ]
    },
    {
      "cell_type": "code",
      "execution_count": 30,
      "id": "85ff4a92-7d3d-4c92-a783-223569d7b59a",
      "metadata": {
        "id": "85ff4a92-7d3d-4c92-a783-223569d7b59a",
        "outputId": "54dd80cd-bba1-460c-8373-7b8512d1346c",
        "colab": {
          "base_uri": "https://localhost:8080/"
        }
      },
      "outputs": [
        {
          "output_type": "stream",
          "name": "stdout",
          "text": [
            "Required time for embedding TFIDF with train data:-  0.058533917999966434\n"
          ]
        }
      ],
      "source": [
        "# start = timer()\n",
        "# tfidf_vectorizer_xtrain = []\n",
        "# for i in range(0, len(xtrain), batch_size):\n",
        "#     batch_X_train = xtrain[i:i + batch_size]\n",
        "#     batch_X_train_tfidf = tfidf_vectorizer.fit_transform(batch_X_train)\n",
        "#     tfidf_vectorizer_xtrain.extend(batch_X_train_tfidf.toarray())\n",
        "# print('Required time for embedding TFIDF with train data:- ', timer() - start)"
      ]
    },
    {
      "cell_type": "markdown",
      "id": "09d50079-1a1b-4ca7-9ce2-9d0e4aef005c",
      "metadata": {
        "id": "09d50079-1a1b-4ca7-9ce2-9d0e4aef005c"
      },
      "source": [
        "##### Repeat the same process for test data\n"
      ]
    },
    {
      "cell_type": "code",
      "execution_count": 31,
      "id": "9a6335d3-4dbc-4d10-b10b-ba51a5820299",
      "metadata": {
        "id": "9a6335d3-4dbc-4d10-b10b-ba51a5820299",
        "outputId": "a02f6c4b-caa4-453b-e278-7787540d659c",
        "colab": {
          "base_uri": "https://localhost:8080/"
        }
      },
      "outputs": [
        {
          "output_type": "stream",
          "name": "stdout",
          "text": [
            "Required time for embedding TFIDF with train data:-  0.012701836000019284\n"
          ]
        }
      ],
      "source": [
        "# start = timer()\n",
        "# tfidf_vectorizer_xtest = []\n",
        "# for i in range(0, len(xtest), batch_size):\n",
        "#     batch_X_test = xtest[i:i + batch_size]\n",
        "#     batch_X_test_tfidf = tfidf_vectorizer.transform(batch_X_test)\n",
        "#     tfidf_vectorizer_xtest.extend(batch_X_test_tfidf.toarray())\n",
        "# print('Required time for embedding TFIDF with train data:- ', timer() - start)"
      ]
    },
    {
      "cell_type": "code",
      "source": [
        "print(type(tfidf_vectorizer_xtrain))\n",
        "print(tfidf_vectorizer_xtrain.shape)\n",
        "\n",
        "print(type(ytrain))\n",
        "print(ytrain.shape)\n",
        "print(ytrain[:10])"
      ],
      "metadata": {
        "colab": {
          "base_uri": "https://localhost:8080/"
        },
        "id": "pV7GylVlQzHB",
        "outputId": "6ba576e3-e23d-4c6e-d856-8a4c29c8ead8"
      },
      "id": "pV7GylVlQzHB",
      "execution_count": 40,
      "outputs": [
        {
          "output_type": "stream",
          "name": "stdout",
          "text": [
            "<class 'scipy.sparse._csr.csr_matrix'>\n",
            "(3633, 4059)\n",
            "<class 'numpy.ndarray'>\n",
            "(3633,)\n",
            "[2 0 2 2 2 2 1 0 0 2]\n"
          ]
        }
      ]
    },
    {
      "cell_type": "markdown",
      "id": "73973d6b-43fe-4285-88a3-b3d8857f039d",
      "metadata": {
        "id": "73973d6b-43fe-4285-88a3-b3d8857f039d"
      },
      "source": [
        "#### Fit classifiers"
      ]
    },
    {
      "cell_type": "code",
      "execution_count": 41,
      "id": "39f1f2f6-456f-4701-a979-bbf536e39113",
      "metadata": {
        "id": "39f1f2f6-456f-4701-a979-bbf536e39113",
        "outputId": "5b7ebeba-d84a-4a22-dd2b-8fbeba3991df",
        "colab": {
          "base_uri": "https://localhost:8080/"
        }
      },
      "outputs": [
        {
          "output_type": "stream",
          "name": "stdout",
          "text": [
            "Training time SVM: 0.03689994899991689\n",
            "Training time Logistic Regression: 0.8499875129999737\n",
            "Training time Naive Bayes: 0.0050469200000407\n",
            "Training time XGBoost: 2.465993835000063\n",
            "Training time Random Forest: 0.19829541500007508\n"
          ]
        }
      ],
      "source": [
        "start = timer()\n",
        "svm_tfidf = svm_classifier.fit(tfidf_vectorizer_xtrain, ytrain)\n",
        "print('Training time SVM:', timer() - start)\n",
        "\n",
        "start = timer()\n",
        "lr_tfidf = logistic_regression.fit(tfidf_vectorizer_xtrain, ytrain)\n",
        "print('Training time Logistic Regression:', timer() - start)\n",
        "\n",
        "start = timer()\n",
        "nb_tfidf = nb_classifier.fit(tfidf_vectorizer_xtrain, ytrain)\n",
        "print('Training time Naive Bayes:', timer() - start)\n",
        "\n",
        "start = timer()\n",
        "xgboost_tfidf = xgboost_classifier.fit(tfidf_vectorizer_xtrain, ytrain)\n",
        "print('Training time XGBoost:', timer() - start)\n",
        "\n",
        "start = timer()\n",
        "rfc_tfidf = random_forest_classifier.fit(tfidf_vectorizer_xtrain, ytrain)\n",
        "print('Training time Random Forest:', timer() - start)"
      ]
    },
    {
      "cell_type": "markdown",
      "id": "d08018d7-fcdd-4bc3-a65f-0d96c7ce649b",
      "metadata": {
        "id": "d08018d7-fcdd-4bc3-a65f-0d96c7ce649b"
      },
      "source": [
        "#### Make predictions"
      ]
    },
    {
      "cell_type": "markdown",
      "id": "c9193725-8df2-463e-b537-319098fac30f",
      "metadata": {
        "id": "c9193725-8df2-463e-b537-319098fac30f"
      },
      "source": [
        "### Linear SVM"
      ]
    },
    {
      "cell_type": "code",
      "execution_count": 47,
      "id": "72c2a99e-dd40-4abe-a8bd-0ba2db197611",
      "metadata": {
        "id": "72c2a99e-dd40-4abe-a8bd-0ba2db197611",
        "outputId": "5e174613-4a14-4f1c-b800-583ef391708f",
        "colab": {
          "base_uri": "https://localhost:8080/"
        }
      },
      "outputs": [
        {
          "output_type": "stream",
          "name": "stdout",
          "text": [
            "Required time for SVM prediction:-  0.014468701000055262\n"
          ]
        }
      ],
      "source": [
        "start = timer()\n",
        "y_pred_svm, accuracy_svm, precision_svm, recall_svm, f1_svm, report_svm, confusion_matrix_svm = evaluate_model(svm_tfidf, tfidf_vectorizer_xtest, ytest)\n",
        "print('Required time for SVM prediction:- ', timer() - start)"
      ]
    },
    {
      "cell_type": "markdown",
      "id": "c586812c-6fe9-48ba-9ad8-620e046ec079",
      "metadata": {
        "id": "c586812c-6fe9-48ba-9ad8-620e046ec079"
      },
      "source": [
        "#### Print actual vs. predicted results for LinearSVM"
      ]
    },
    {
      "cell_type": "code",
      "execution_count": 48,
      "id": "b6e3df3f-9612-49e9-871b-787decfbc83b",
      "metadata": {
        "id": "b6e3df3f-9612-49e9-871b-787decfbc83b",
        "outputId": "9aa34a18-a946-47cd-8cb3-51c1db5b1bac",
        "colab": {
          "base_uri": "https://localhost:8080/"
        }
      },
      "outputs": [
        {
          "output_type": "stream",
          "name": "stdout",
          "text": [
            "0 = negative, 1 = positive\n",
            "Actual: 0, SVM Predicted: 0\n",
            "\n",
            "Actual: 2, SVM Predicted: 2\n",
            "\n",
            "Actual: 2, SVM Predicted: 2\n",
            "\n",
            "Actual: 0, SVM Predicted: 0\n",
            "\n",
            "Actual: 1, SVM Predicted: 0\n",
            "\n",
            "Actual: 2, SVM Predicted: 2\n",
            "\n",
            "Actual: 1, SVM Predicted: 0\n",
            "\n",
            "Actual: 0, SVM Predicted: 0\n",
            "\n",
            "Actual: 0, SVM Predicted: 0\n",
            "\n",
            "Actual: 2, SVM Predicted: 2\n",
            "\n",
            "Actual: 2, SVM Predicted: 2\n",
            "\n",
            "Actual: 1, SVM Predicted: 0\n",
            "\n",
            "Actual: 0, SVM Predicted: 0\n",
            "\n",
            "Actual: 0, SVM Predicted: 2\n",
            "\n",
            "Actual: 0, SVM Predicted: 0\n",
            "\n"
          ]
        }
      ],
      "source": [
        "print('0 = negative, 1 = positive')\n",
        "for actual, predicted in zip(ytest[:15], y_pred_svm[:15]):\n",
        "    print(f\"Actual: {actual}, SVM Predicted: {predicted}\")\n",
        "    print()"
      ]
    },
    {
      "cell_type": "code",
      "execution_count": 49,
      "id": "cb35628b-3cbe-46f2-bd43-073975b3ec90",
      "metadata": {
        "id": "cb35628b-3cbe-46f2-bd43-073975b3ec90",
        "outputId": "0c4cbf66-6853-4cb5-d384-e4acad3a7e75",
        "colab": {
          "base_uri": "https://localhost:8080/"
        }
      },
      "outputs": [
        {
          "output_type": "stream",
          "name": "stdout",
          "text": [
            "LinearSVM Accuracy: 0.79\n",
            "LinearSVM Precision: 0.57\n",
            "LinearSVM Recall: 0.56\n",
            "LinearSVM F1 score: 0.56\n",
            "Classification Report:\n",
            "              precision    recall  f1-score   support\n",
            "\n",
            "           0       0.71      0.70      0.70       258\n",
            "           1       0.17      0.06      0.09        77\n",
            "           2       0.85      0.93      0.89       574\n",
            "\n",
            "    accuracy                           0.79       909\n",
            "   macro avg       0.57      0.56      0.56       909\n",
            "weighted avg       0.75      0.79      0.77       909\n",
            "\n",
            "Confusion Matrix\n",
            "[[180  19  59]\n",
            " [ 37   5  35]\n",
            " [ 37   6 531]]\n"
          ]
        }
      ],
      "source": [
        "print(f\"LinearSVM Accuracy: {accuracy_svm:.2f}\")\n",
        "print(f\"LinearSVM Precision: {precision_svm:.2f}\")\n",
        "print(f\"LinearSVM Recall: {recall_svm:.2f}\")\n",
        "print(f\"LinearSVM F1 score: {f1_svm:.2f}\")\n",
        "print(\"Classification Report:\")\n",
        "print(report_svm)\n",
        "print(\"Confusion Matrix\")\n",
        "print(confusion_matrix_svm)"
      ]
    },
    {
      "cell_type": "markdown",
      "id": "e1ffb984-5f8b-48b5-94ca-63781a24a87c",
      "metadata": {
        "id": "e1ffb984-5f8b-48b5-94ca-63781a24a87c"
      },
      "source": [
        "### Logistic Regression"
      ]
    },
    {
      "cell_type": "code",
      "execution_count": 50,
      "id": "23169f4f-6f05-42cd-8c13-c3bcdea52d65",
      "metadata": {
        "id": "23169f4f-6f05-42cd-8c13-c3bcdea52d65",
        "outputId": "a6b3f273-bee2-4900-e8de-5eee0366193c",
        "colab": {
          "base_uri": "https://localhost:8080/"
        }
      },
      "outputs": [
        {
          "output_type": "stream",
          "name": "stdout",
          "text": [
            "Required time for Logistic Regression prediction:-  0.023450054000022647\n"
          ]
        }
      ],
      "source": [
        "start = timer()\n",
        "y_pred_lr, accuracy_lr, precision_lr, recall_lr, f1_lr, report_lr, cm_lr = evaluate_model(lr_tfidf, tfidf_vectorizer_xtest, ytest)\n",
        "print('Required time for Logistic Regression prediction:- ', timer() - start)"
      ]
    },
    {
      "cell_type": "markdown",
      "id": "285a2cc2-0776-42bf-82cb-c1e39e80cd28",
      "metadata": {
        "id": "285a2cc2-0776-42bf-82cb-c1e39e80cd28"
      },
      "source": [
        "#### Print actual vs. predicted results for Logistic Regression\n"
      ]
    },
    {
      "cell_type": "code",
      "execution_count": 51,
      "id": "067b3d31-1352-4115-a807-cdfe4ce6f54a",
      "metadata": {
        "id": "067b3d31-1352-4115-a807-cdfe4ce6f54a",
        "outputId": "75bf775d-de02-47a2-fc8c-7ec5275aa293",
        "colab": {
          "base_uri": "https://localhost:8080/"
        }
      },
      "outputs": [
        {
          "output_type": "stream",
          "name": "stdout",
          "text": [
            "0 = negative, 1 = positive\n",
            "Actual: 0, Logistic Regression Predicted: 0\n",
            "\n",
            "Actual: 2, Logistic Regression Predicted: 2\n",
            "\n",
            "Actual: 2, Logistic Regression Predicted: 2\n",
            "\n",
            "Actual: 0, Logistic Regression Predicted: 0\n",
            "\n",
            "Actual: 1, Logistic Regression Predicted: 0\n",
            "\n",
            "Actual: 2, Logistic Regression Predicted: 2\n",
            "\n",
            "Actual: 1, Logistic Regression Predicted: 0\n",
            "\n",
            "Actual: 0, Logistic Regression Predicted: 0\n",
            "\n",
            "Actual: 0, Logistic Regression Predicted: 0\n",
            "\n",
            "Actual: 2, Logistic Regression Predicted: 2\n",
            "\n",
            "Actual: 2, Logistic Regression Predicted: 2\n",
            "\n",
            "Actual: 1, Logistic Regression Predicted: 0\n",
            "\n",
            "Actual: 0, Logistic Regression Predicted: 0\n",
            "\n",
            "Actual: 0, Logistic Regression Predicted: 2\n",
            "\n",
            "Actual: 0, Logistic Regression Predicted: 0\n",
            "\n"
          ]
        }
      ],
      "source": [
        "print('0 = negative, 1 = positive')\n",
        "for actual, predicted in zip(ytest[:15], y_pred_lr[:15]):\n",
        "    print(f\"Actual: {actual}, Logistic Regression Predicted: {predicted}\")\n",
        "    print()"
      ]
    },
    {
      "cell_type": "code",
      "execution_count": 52,
      "id": "be6cecf4-f22c-4eac-bfd8-65a81e061ee9",
      "metadata": {
        "id": "be6cecf4-f22c-4eac-bfd8-65a81e061ee9",
        "outputId": "e2ed12ac-2ef2-4916-edbb-61c4e2d44694",
        "colab": {
          "base_uri": "https://localhost:8080/"
        }
      },
      "outputs": [
        {
          "output_type": "stream",
          "name": "stdout",
          "text": [
            "Logistic Regression Accuracy: 0.81\n",
            "Logistic Regression Precision: 0.53\n",
            "Logistic Regression Recall: 0.56\n",
            "Logistic Regression F1 score: 0.54\n",
            "Classification Report:\n",
            "              precision    recall  f1-score   support\n",
            "\n",
            "           0       0.74      0.73      0.74       258\n",
            "           1       0.00      0.00      0.00        77\n",
            "           2       0.84      0.95      0.89       574\n",
            "\n",
            "    accuracy                           0.81       909\n",
            "   macro avg       0.53      0.56      0.54       909\n",
            "weighted avg       0.74      0.81      0.77       909\n",
            "\n",
            "Confusion Matrix\n",
            "[[188   3  67]\n",
            " [ 38   0  39]\n",
            " [ 27   2 545]]\n"
          ]
        }
      ],
      "source": [
        "print(f\"Logistic Regression Accuracy: {accuracy_lr:.2f}\")\n",
        "print(f\"Logistic Regression Precision: {precision_lr:.2f}\")\n",
        "print(f\"Logistic Regression Recall: {recall_lr:.2f}\")\n",
        "print(f\"Logistic Regression F1 score: {f1_lr:.2f}\")\n",
        "print(\"Classification Report:\")\n",
        "print(report_lr)\n",
        "print(\"Confusion Matrix\")\n",
        "print(cm_lr)"
      ]
    },
    {
      "cell_type": "markdown",
      "id": "0a0222ad-264e-40ac-a032-ab9b7ff2cd00",
      "metadata": {
        "id": "0a0222ad-264e-40ac-a032-ab9b7ff2cd00"
      },
      "source": [
        "### Naive bayes"
      ]
    },
    {
      "cell_type": "code",
      "execution_count": 53,
      "id": "bb0e65ee-dcb6-4494-bfad-95ac85448a24",
      "metadata": {
        "id": "bb0e65ee-dcb6-4494-bfad-95ac85448a24",
        "outputId": "b1ffb462-5178-44e1-801a-2e0dc8cfd4fb",
        "colab": {
          "base_uri": "https://localhost:8080/"
        }
      },
      "outputs": [
        {
          "output_type": "stream",
          "name": "stdout",
          "text": [
            "Required time for Naive Bayes prediction:-  0.014722640000059073\n"
          ]
        },
        {
          "output_type": "stream",
          "name": "stderr",
          "text": [
            "/usr/local/lib/python3.12/dist-packages/sklearn/metrics/_classification.py:1565: UndefinedMetricWarning: Precision is ill-defined and being set to 0.0 in labels with no predicted samples. Use `zero_division` parameter to control this behavior.\n",
            "  _warn_prf(average, modifier, f\"{metric.capitalize()} is\", len(result))\n",
            "/usr/local/lib/python3.12/dist-packages/sklearn/metrics/_classification.py:1565: UndefinedMetricWarning: Precision is ill-defined and being set to 0.0 in labels with no predicted samples. Use `zero_division` parameter to control this behavior.\n",
            "  _warn_prf(average, modifier, f\"{metric.capitalize()} is\", len(result))\n",
            "/usr/local/lib/python3.12/dist-packages/sklearn/metrics/_classification.py:1565: UndefinedMetricWarning: Precision is ill-defined and being set to 0.0 in labels with no predicted samples. Use `zero_division` parameter to control this behavior.\n",
            "  _warn_prf(average, modifier, f\"{metric.capitalize()} is\", len(result))\n",
            "/usr/local/lib/python3.12/dist-packages/sklearn/metrics/_classification.py:1565: UndefinedMetricWarning: Precision is ill-defined and being set to 0.0 in labels with no predicted samples. Use `zero_division` parameter to control this behavior.\n",
            "  _warn_prf(average, modifier, f\"{metric.capitalize()} is\", len(result))\n"
          ]
        }
      ],
      "source": [
        "start = timer()\n",
        "y_pred_nb, accuracy_nb, precision_nb, recall_nb, f1_nb, report_nb, cm_nb = evaluate_model(nb_tfidf, tfidf_vectorizer_xtest, ytest)\n",
        "print('Required time for Naive Bayes prediction:- ', timer() - start)"
      ]
    },
    {
      "cell_type": "markdown",
      "id": "3c315f65-2f63-4924-b4a1-058c6ff5775d",
      "metadata": {
        "id": "3c315f65-2f63-4924-b4a1-058c6ff5775d"
      },
      "source": [
        "#### Print actual vs. predicted results for Naive bayes\n"
      ]
    },
    {
      "cell_type": "code",
      "execution_count": 54,
      "id": "77452499-14aa-41f3-b117-546b185aa32f",
      "metadata": {
        "id": "77452499-14aa-41f3-b117-546b185aa32f",
        "outputId": "0acf4ac6-4515-4c9a-9ee0-93e570d97f6e",
        "colab": {
          "base_uri": "https://localhost:8080/"
        }
      },
      "outputs": [
        {
          "output_type": "stream",
          "name": "stdout",
          "text": [
            "0 = negative, 1 = positive\n",
            "Actual: 0, Naive bayes Predicted: 0\n",
            "\n",
            "Actual: 2, Naive bayes Predicted: 2\n",
            "\n",
            "Actual: 2, Naive bayes Predicted: 2\n",
            "\n",
            "Actual: 0, Naive bayes Predicted: 0\n",
            "\n",
            "Actual: 1, Naive bayes Predicted: 2\n",
            "\n",
            "Actual: 2, Naive bayes Predicted: 2\n",
            "\n",
            "Actual: 1, Naive bayes Predicted: 0\n",
            "\n",
            "Actual: 0, Naive bayes Predicted: 0\n",
            "\n",
            "Actual: 0, Naive bayes Predicted: 0\n",
            "\n",
            "Actual: 2, Naive bayes Predicted: 2\n",
            "\n",
            "Actual: 2, Naive bayes Predicted: 2\n",
            "\n",
            "Actual: 1, Naive bayes Predicted: 0\n",
            "\n",
            "Actual: 0, Naive bayes Predicted: 0\n",
            "\n",
            "Actual: 0, Naive bayes Predicted: 2\n",
            "\n",
            "Actual: 0, Naive bayes Predicted: 2\n",
            "\n"
          ]
        }
      ],
      "source": [
        "print('0 = negative, 1 = positive')\n",
        "for actual, predicted in zip(ytest[:15], y_pred_nb[:15]):\n",
        "    print(f\"Actual: {actual}, Naive bayes Predicted: {predicted}\")\n",
        "    print()"
      ]
    },
    {
      "cell_type": "code",
      "execution_count": 55,
      "id": "c564657e-19e5-43eb-9ed0-ca0e73db8e65",
      "metadata": {
        "id": "c564657e-19e5-43eb-9ed0-ca0e73db8e65",
        "outputId": "e12e36e3-95fd-4e47-f3da-9cb15fe08cdd",
        "colab": {
          "base_uri": "https://localhost:8080/"
        }
      },
      "outputs": [
        {
          "output_type": "stream",
          "name": "stdout",
          "text": [
            "Naive bayes Accuracy: 0.79\n",
            "Naive bayes Precision: 0.53\n",
            "Naive bayes Recall: 0.53\n",
            "Naive bayes F1 score: 0.52\n",
            "Classification Report:\n",
            "              precision    recall  f1-score   support\n",
            "\n",
            "           0       0.79      0.63      0.70       258\n",
            "           1       0.00      0.00      0.00        77\n",
            "           2       0.79      0.97      0.87       574\n",
            "\n",
            "    accuracy                           0.79       909\n",
            "   macro avg       0.53      0.53      0.52       909\n",
            "weighted avg       0.72      0.79      0.75       909\n",
            "\n",
            "Confusion Matrix:\n",
            "[[162   0  96]\n",
            " [ 25   0  52]\n",
            " [ 18   0 556]]\n"
          ]
        }
      ],
      "source": [
        "print(f\"Naive bayes Accuracy: {accuracy_nb:.2f}\")\n",
        "print(f\"Naive bayes Precision: {precision_nb:.2f}\")\n",
        "print(f\"Naive bayes Recall: {recall_nb:.2f}\")\n",
        "print(f\"Naive bayes F1 score: {f1_nb:.2f}\")\n",
        "print(\"Classification Report:\")\n",
        "print(report_nb)\n",
        "print(\"Confusion Matrix:\")\n",
        "print(cm_nb)"
      ]
    },
    {
      "cell_type": "markdown",
      "id": "85e291f9-7f4a-4ee4-b62d-afc9981d4d5e",
      "metadata": {
        "id": "85e291f9-7f4a-4ee4-b62d-afc9981d4d5e"
      },
      "source": [
        "### XGBoost Classifier"
      ]
    },
    {
      "cell_type": "code",
      "execution_count": 56,
      "id": "15c8b8ef-5f43-4db0-adf7-27ac972ad917",
      "metadata": {
        "id": "15c8b8ef-5f43-4db0-adf7-27ac972ad917",
        "outputId": "0cb21857-9357-40b2-ba30-46586835d2e6",
        "colab": {
          "base_uri": "https://localhost:8080/"
        }
      },
      "outputs": [
        {
          "output_type": "stream",
          "name": "stdout",
          "text": [
            "Required time for XGBoost classifier prediction:-  0.04133449300002212\n"
          ]
        }
      ],
      "source": [
        "start = timer()\n",
        "y_pred_xgboost, accuracy_xgboost, precision_xgboost, recall_xgboost, f1_xgboost, report_xgboost, cm_xgboost = evaluate_model(xgboost_tfidf, tfidf_vectorizer_xtest, ytest)\n",
        "print('Required time for XGBoost classifier prediction:- ', timer() - start)"
      ]
    },
    {
      "cell_type": "markdown",
      "id": "5cee48b3-b0d0-4ec4-8e1d-1b1a6523c1fe",
      "metadata": {
        "id": "5cee48b3-b0d0-4ec4-8e1d-1b1a6523c1fe"
      },
      "source": [
        "#### Print actual vs. predicted results for XGBoost classifier\n"
      ]
    },
    {
      "cell_type": "code",
      "execution_count": 57,
      "id": "ae277999-c33f-4127-90e9-a5e6e34b23a8",
      "metadata": {
        "id": "ae277999-c33f-4127-90e9-a5e6e34b23a8",
        "outputId": "380a0e26-7873-4388-c237-fa19dacb4d99",
        "colab": {
          "base_uri": "https://localhost:8080/"
        }
      },
      "outputs": [
        {
          "output_type": "stream",
          "name": "stdout",
          "text": [
            "0 = negative, 1 = positive\n",
            "Actual: 0, XGBoost Predicted: 0\n",
            "\n",
            "Actual: 2, XGBoost Predicted: 2\n",
            "\n",
            "Actual: 2, XGBoost Predicted: 2\n",
            "\n",
            "Actual: 0, XGBoost Predicted: 0\n",
            "\n",
            "Actual: 1, XGBoost Predicted: 2\n",
            "\n",
            "Actual: 2, XGBoost Predicted: 2\n",
            "\n",
            "Actual: 1, XGBoost Predicted: 0\n",
            "\n",
            "Actual: 0, XGBoost Predicted: 0\n",
            "\n",
            "Actual: 0, XGBoost Predicted: 0\n",
            "\n",
            "Actual: 2, XGBoost Predicted: 2\n",
            "\n",
            "Actual: 2, XGBoost Predicted: 2\n",
            "\n",
            "Actual: 1, XGBoost Predicted: 0\n",
            "\n",
            "Actual: 0, XGBoost Predicted: 0\n",
            "\n",
            "Actual: 0, XGBoost Predicted: 2\n",
            "\n",
            "Actual: 0, XGBoost Predicted: 2\n",
            "\n"
          ]
        }
      ],
      "source": [
        "print('0 = negative, 1 = positive')\n",
        "for actual, predicted in zip(ytest[:15], y_pred_xgboost[:15]):\n",
        "    print(f\"Actual: {actual}, XGBoost Predicted: {predicted}\")\n",
        "    print()"
      ]
    },
    {
      "cell_type": "code",
      "execution_count": 58,
      "id": "b477ba4b-24cb-4e5b-888b-42d62c0d4f02",
      "metadata": {
        "id": "b477ba4b-24cb-4e5b-888b-42d62c0d4f02",
        "outputId": "824d12a9-a4cf-408c-aee1-0d7ae296b684",
        "colab": {
          "base_uri": "https://localhost:8080/"
        }
      },
      "outputs": [
        {
          "output_type": "stream",
          "name": "stdout",
          "text": [
            "XGBoost Accuracy: 0.80\n",
            "XGBoost Precision: 0.62\n",
            "XGBoost Recall: 0.57\n",
            "XGBoost F1 score: 0.57\n",
            "Classification Report:\n",
            "              precision    recall  f1-score   support\n",
            "\n",
            "           0       0.74      0.69      0.71       258\n",
            "           1       0.30      0.08      0.12        77\n",
            "           2       0.84      0.94      0.89       574\n",
            "\n",
            "    accuracy                           0.80       909\n",
            "   macro avg       0.62      0.57      0.57       909\n",
            "weighted avg       0.76      0.80      0.77       909\n",
            "\n",
            "Confusion Matrix:\n",
            "[[179   9  70]\n",
            " [ 35   6  36]\n",
            " [ 29   5 540]]\n"
          ]
        }
      ],
      "source": [
        "print(f\"XGBoost Accuracy: {accuracy_xgboost:.2f}\")\n",
        "print(f\"XGBoost Precision: {precision_xgboost:.2f}\")\n",
        "print(f\"XGBoost Recall: {recall_xgboost:.2f}\")\n",
        "print(f\"XGBoost F1 score: {f1_xgboost:.2f}\")\n",
        "print(\"Classification Report:\")\n",
        "print(report_xgboost)\n",
        "print(\"Confusion Matrix:\")\n",
        "print(cm_xgboost)"
      ]
    },
    {
      "cell_type": "markdown",
      "id": "a27a6d4d-5cec-4a00-9646-793488fc4964",
      "metadata": {
        "id": "a27a6d4d-5cec-4a00-9646-793488fc4964"
      },
      "source": [
        "### Random Forest Classifier"
      ]
    },
    {
      "cell_type": "code",
      "execution_count": 59,
      "id": "5cfa9a30-1b1b-45a7-b122-4abbe8346461",
      "metadata": {
        "id": "5cfa9a30-1b1b-45a7-b122-4abbe8346461",
        "outputId": "2cdbe80e-d413-4c59-aa34-3e144258be7c",
        "colab": {
          "base_uri": "https://localhost:8080/"
        }
      },
      "outputs": [
        {
          "output_type": "stream",
          "name": "stdout",
          "text": [
            "Required time for Random Forest classifier prediction:-  0.0476948129999073\n"
          ]
        },
        {
          "output_type": "stream",
          "name": "stderr",
          "text": [
            "/usr/local/lib/python3.12/dist-packages/sklearn/metrics/_classification.py:1565: UndefinedMetricWarning: Precision is ill-defined and being set to 0.0 in labels with no predicted samples. Use `zero_division` parameter to control this behavior.\n",
            "  _warn_prf(average, modifier, f\"{metric.capitalize()} is\", len(result))\n",
            "/usr/local/lib/python3.12/dist-packages/sklearn/metrics/_classification.py:1565: UndefinedMetricWarning: Precision is ill-defined and being set to 0.0 in labels with no predicted samples. Use `zero_division` parameter to control this behavior.\n",
            "  _warn_prf(average, modifier, f\"{metric.capitalize()} is\", len(result))\n",
            "/usr/local/lib/python3.12/dist-packages/sklearn/metrics/_classification.py:1565: UndefinedMetricWarning: Precision is ill-defined and being set to 0.0 in labels with no predicted samples. Use `zero_division` parameter to control this behavior.\n",
            "  _warn_prf(average, modifier, f\"{metric.capitalize()} is\", len(result))\n",
            "/usr/local/lib/python3.12/dist-packages/sklearn/metrics/_classification.py:1565: UndefinedMetricWarning: Precision is ill-defined and being set to 0.0 in labels with no predicted samples. Use `zero_division` parameter to control this behavior.\n",
            "  _warn_prf(average, modifier, f\"{metric.capitalize()} is\", len(result))\n"
          ]
        }
      ],
      "source": [
        "start = timer()\n",
        "y_pred_rfc, accuracy_rfc, precision_rfc, recall_rfc, f1_rfc, report_rfc, cm_rfc = evaluate_model(rfc_tfidf, tfidf_vectorizer_xtest, ytest)\n",
        "print('Required time for Random Forest classifier prediction:- ', timer() - start)"
      ]
    },
    {
      "cell_type": "markdown",
      "id": "fe655b46-23f8-4b23-8df1-6d15309d3f12",
      "metadata": {
        "id": "fe655b46-23f8-4b23-8df1-6d15309d3f12"
      },
      "source": [
        "#### Print actual vs. predicted results for Random Forest classifier"
      ]
    },
    {
      "cell_type": "code",
      "execution_count": 60,
      "id": "4d5e8ac2-bd2f-4aa2-9f2d-cf23d24361f1",
      "metadata": {
        "id": "4d5e8ac2-bd2f-4aa2-9f2d-cf23d24361f1",
        "outputId": "151e42e4-0f49-4a23-ca4c-8504ba14d5a2",
        "colab": {
          "base_uri": "https://localhost:8080/"
        }
      },
      "outputs": [
        {
          "output_type": "stream",
          "name": "stdout",
          "text": [
            "0 = negative, 1 = positive\n",
            "Actual: 0, Random Forest Predicted: 2\n",
            "\n",
            "Actual: 2, Random Forest Predicted: 2\n",
            "\n",
            "Actual: 2, Random Forest Predicted: 2\n",
            "\n",
            "Actual: 0, Random Forest Predicted: 2\n",
            "\n",
            "Actual: 1, Random Forest Predicted: 2\n",
            "\n",
            "Actual: 2, Random Forest Predicted: 2\n",
            "\n",
            "Actual: 1, Random Forest Predicted: 2\n",
            "\n",
            "Actual: 0, Random Forest Predicted: 2\n",
            "\n",
            "Actual: 0, Random Forest Predicted: 2\n",
            "\n",
            "Actual: 2, Random Forest Predicted: 2\n",
            "\n",
            "Actual: 2, Random Forest Predicted: 2\n",
            "\n",
            "Actual: 1, Random Forest Predicted: 2\n",
            "\n",
            "Actual: 0, Random Forest Predicted: 2\n",
            "\n",
            "Actual: 0, Random Forest Predicted: 2\n",
            "\n",
            "Actual: 0, Random Forest Predicted: 2\n",
            "\n"
          ]
        }
      ],
      "source": [
        "print('0 = negative, 1 = positive')\n",
        "for actual, predicted in zip(ytest[:15], y_pred_rfc[:15]):\n",
        "    print(f\"Actual: {actual}, Random Forest Predicted: {predicted}\")\n",
        "    print()"
      ]
    },
    {
      "cell_type": "code",
      "execution_count": 61,
      "id": "ab187b17-3db3-4b9b-b7ab-c4d143197b7a",
      "metadata": {
        "id": "ab187b17-3db3-4b9b-b7ab-c4d143197b7a",
        "outputId": "dc44759e-948b-4acb-fcbb-01bd4343e5fb",
        "colab": {
          "base_uri": "https://localhost:8080/"
        }
      },
      "outputs": [
        {
          "output_type": "stream",
          "name": "stdout",
          "text": [
            "Random Forest Accuracy: 0.63\n",
            "Random Forest Precision: 0.21\n",
            "Random Forest Recall: 0.33\n",
            "Random Forest F1 score: 0.26\n",
            "Classification Report:\n",
            "              precision    recall  f1-score   support\n",
            "\n",
            "           0       0.00      0.00      0.00       258\n",
            "           1       0.00      0.00      0.00        77\n",
            "           2       0.63      1.00      0.77       574\n",
            "\n",
            "    accuracy                           0.63       909\n",
            "   macro avg       0.21      0.33      0.26       909\n",
            "weighted avg       0.40      0.63      0.49       909\n",
            "\n",
            "Confusion Matrix:\n",
            "[[  0   0 258]\n",
            " [  0   0  77]\n",
            " [  0   0 574]]\n"
          ]
        }
      ],
      "source": [
        "print(f\"Random Forest Accuracy: {accuracy_rfc:.2f}\")\n",
        "print(f\"Random Forest Precision: {precision_rfc:.2f}\")\n",
        "print(f\"Random Forest Recall: {recall_rfc:.2f}\")\n",
        "print(f\"Random Forest F1 score: {f1_rfc:.2f}\")\n",
        "print(\"Classification Report:\")\n",
        "print(report_rfc)\n",
        "print(\"Confusion Matrix:\")\n",
        "print(cm_rfc)"
      ]
    },
    {
      "cell_type": "markdown",
      "id": "9a592bf1-0eb7-48e6-8601-0898db9ae9ce",
      "metadata": {
        "id": "9a592bf1-0eb7-48e6-8601-0898db9ae9ce"
      },
      "source": [
        "#### Display all five models accuracy"
      ]
    },
    {
      "cell_type": "code",
      "execution_count": 62,
      "id": "ff1e68fb-4836-4aa3-afd4-25ab644c5236",
      "metadata": {
        "id": "ff1e68fb-4836-4aa3-afd4-25ab644c5236"
      },
      "outputs": [],
      "source": [
        "model_names = ['LinearSVM', 'LogisticRegression', 'NaiveBayes', 'XGBoost', 'RandomForest']\n",
        "model_accuracies = [accuracy_svm, accuracy_lr, accuracy_nb, accuracy_xgboost, accuracy_rfc]"
      ]
    },
    {
      "cell_type": "code",
      "execution_count": 63,
      "id": "3dde51c8-e9d8-4776-a187-99d19f7ae441",
      "metadata": {
        "id": "3dde51c8-e9d8-4776-a187-99d19f7ae441",
        "outputId": "ccee6993-7a8b-4034-bc38-4fabbb3a9221",
        "colab": {
          "base_uri": "https://localhost:8080/",
          "height": 564
        }
      },
      "outputs": [
        {
          "output_type": "display_data",
          "data": {
            "text/plain": [
              "<Figure size 1000x600 with 1 Axes>"
            ],
            "image/png": "[encoded data removed]"
          },
          "metadata": {}
        }
      ],
      "source": [
        "plt.figure(figsize=(10, 6))\n",
        "plt.bar(model_names, model_accuracies, color=['blue', 'green', 'orange', 'red', 'purple'])\n",
        "plt.xlabel(\"Models\")\n",
        "plt.ylabel(\"Accuracy\")\n",
        "plt.title(\"Model Accuracy Comparison with TFIDF\")\n",
        "plt.ylim(0.0, 1.0)  # Set the y-axis limits\n",
        "plt.grid(axis='y', linestyle='--', alpha=0.7)\n",
        "plt.show()\n"
      ]
    },
    {
      "cell_type": "code",
      "execution_count": null,
      "id": "824f4682-946e-4f55-8890-9e321a54ea90",
      "metadata": {
        "id": "824f4682-946e-4f55-8890-9e321a54ea90"
      },
      "outputs": [],
      "source": []
    },
    {
      "cell_type": "markdown",
      "id": "088056e2-1950-4bf4-94bf-9e8e9a59405b",
      "metadata": {
        "id": "088056e2-1950-4bf4-94bf-9e8e9a59405b"
      },
      "source": [
        "## 2. Universal Sentence Encoder (USE)\n",
        "#### 1. Linear SVM\n",
        "#### 2. Logistic Regression\n",
        "#### 3. XGBoost classifier\n",
        "#### 4. Random Forest classifier"
      ]
    },
    {
      "cell_type": "markdown",
      "id": "59fd68e1-f425-462d-a2c9-da43542aad71",
      "metadata": {
        "id": "59fd68e1-f425-462d-a2c9-da43542aad71"
      },
      "source": [
        "#### Load the Universal Sentence Encoder model, and embed this model"
      ]
    },
    {
      "cell_type": "code",
      "execution_count": 64,
      "id": "3f673c84-af0c-4aef-9f70-419072e3926f",
      "metadata": {
        "id": "3f673c84-af0c-4aef-9f70-419072e3926f",
        "outputId": "aefb749e-a2e6-4e04-e2b4-cd72dfda8af2",
        "colab": {
          "base_uri": "https://localhost:8080/"
        }
      },
      "outputs": [
        {
          "output_type": "stream",
          "name": "stdout",
          "text": [
            "Required time for upload USE from tensorflow hub:-  22.495054390000064\n"
          ]
        }
      ],
      "source": [
        "start = timer()\n",
        "embed = hub.load(\"https://tfhub.dev/google/universal-sentence-encoder/4\")\n",
        "print('Required time for upload USE from tensorflow hub:- ', timer() - start)"
      ]
    },
    {
      "cell_type": "code",
      "execution_count": 65,
      "id": "f1eb3f78-13d2-418d-8d20-b9f00e3e81a5",
      "metadata": {
        "id": "f1eb3f78-13d2-418d-8d20-b9f00e3e81a5"
      },
      "outputs": [],
      "source": [
        "xtrain_use = []\n",
        "xtest_use = []"
      ]
    },
    {
      "cell_type": "code",
      "execution_count": 66,
      "id": "5842e6c3-ef9c-42a4-877d-d61d9b1fe26c",
      "metadata": {
        "id": "5842e6c3-ef9c-42a4-877d-d61d9b1fe26c",
        "outputId": "67219de1-50a5-4ea5-cdf0-5040b029ca02",
        "colab": {
          "base_uri": "https://localhost:8080/"
        }
      },
      "outputs": [
        {
          "output_type": "stream",
          "name": "stdout",
          "text": [
            "Required time for embedding xtrain with USE:-  4.502297543000054\n"
          ]
        }
      ],
      "source": [
        "start = timer()\n",
        "for i in range(0, len(xtrain), batch_size):\n",
        "    batch_X_train = xtrain[i:i + batch_size]\n",
        "    batch_X_train_use = np.array(embed(batch_X_train))\n",
        "    xtrain_use.extend(batch_X_train_use)\n",
        "print('Required time for embedding xtrain with USE:- ', timer() - start)"
      ]
    },
    {
      "cell_type": "code",
      "execution_count": 67,
      "id": "431ee9ce-03d6-428a-8db8-b0f19ed9f032",
      "metadata": {
        "id": "431ee9ce-03d6-428a-8db8-b0f19ed9f032",
        "outputId": "47935eb4-cd7d-4d99-aedc-5fa4c8873d66",
        "colab": {
          "base_uri": "https://localhost:8080/"
        }
      },
      "outputs": [
        {
          "output_type": "stream",
          "name": "stdout",
          "text": [
            "Required time for embedding xtest with USE:-  0.047477509000032114\n"
          ]
        }
      ],
      "source": [
        "start = timer()\n",
        "for i in range(0, len(xtest), batch_size):\n",
        "    batch_X_test = xtest[i:i + batch_size]\n",
        "    batch_X_test_use = np.array(embed(batch_X_test))\n",
        "    xtest_use.extend(batch_X_test_use)\n",
        "print('Required time for embedding xtest with USE:- ', timer() - start)"
      ]
    },
    {
      "cell_type": "markdown",
      "id": "3d079e02-63bf-400b-acc1-a66c070f6404",
      "metadata": {
        "id": "3d079e02-63bf-400b-acc1-a66c070f6404"
      },
      "source": [
        "#### Fit classifiers"
      ]
    },
    {
      "cell_type": "code",
      "execution_count": 68,
      "id": "7eb3f533-c4c3-4709-88ed-78da68d3a0d2",
      "metadata": {
        "id": "7eb3f533-c4c3-4709-88ed-78da68d3a0d2",
        "outputId": "e582171a-7bce-4237-f078-eb341cee5ba6",
        "colab": {
          "base_uri": "https://localhost:8080/"
        }
      },
      "outputs": [
        {
          "output_type": "stream",
          "name": "stdout",
          "text": [
            "Required time for training Linear SVM classifier:-  1.528399927999999\n",
            "Required time for training Logistic Regression:-  0.5594071869999198\n",
            "Required time for training XGBoost classifier:-  27.99776181699997\n",
            "Required time for training all Random Forest classifier:-  1.6319982579999532\n"
          ]
        }
      ],
      "source": [
        "start = timer()\n",
        "svm_use = svm_classifier.fit(xtrain_use, ytrain)\n",
        "print('Required time for training Linear SVM classifier:- ', timer() - start)\n",
        "start = timer()\n",
        "lr_use = logistic_regression.fit(xtrain_use, ytrain)\n",
        "print('Required time for training Logistic Regression:- ', timer() - start)\n",
        "start = timer()\n",
        "xgboost_use = xgboost_classifier.fit(xtrain_use, ytrain)\n",
        "print('Required time for training XGBoost classifier:- ', timer() - start)\n",
        "start = timer()\n",
        "rfc_use = random_forest_classifier.fit(xtrain_use, ytrain)\n",
        "print('Required time for training all Random Forest classifier:- ', timer() - start)"
      ]
    },
    {
      "cell_type": "markdown",
      "id": "c92dfbf4-08ba-4236-8d6d-af68465b50fe",
      "metadata": {
        "id": "c92dfbf4-08ba-4236-8d6d-af68465b50fe"
      },
      "source": [
        "#### Make predictions"
      ]
    },
    {
      "cell_type": "markdown",
      "id": "09da979e-43f9-4438-a0cb-ab0fb66f0fdd",
      "metadata": {
        "id": "09da979e-43f9-4438-a0cb-ab0fb66f0fdd"
      },
      "source": [
        "### Linear SVM"
      ]
    },
    {
      "cell_type": "code",
      "execution_count": 69,
      "id": "8dbece2d-a9d0-456c-a231-eac4a7d265f6",
      "metadata": {
        "id": "8dbece2d-a9d0-456c-a231-eac4a7d265f6",
        "outputId": "3a362e6b-a574-41fe-fb0c-9ad0b9414924",
        "colab": {
          "base_uri": "https://localhost:8080/"
        }
      },
      "outputs": [
        {
          "output_type": "stream",
          "name": "stdout",
          "text": [
            "Required time for Linear SVM prediction with USE :-  0.020259582000107912\n"
          ]
        }
      ],
      "source": [
        "start = timer()\n",
        "y_pred_svm_use, accuracy_svm_use, precision_svm_use, recall_svm_use, f1_svm_use, report_svm_use, cm_svm_use = evaluate_model(svm_use, xtest_use, ytest)\n",
        "print('Required time for Linear SVM prediction with USE :- ', timer() - start)"
      ]
    },
    {
      "cell_type": "markdown",
      "id": "5a9c6b6c-069f-4fdd-a579-9f63906191b5",
      "metadata": {
        "id": "5a9c6b6c-069f-4fdd-a579-9f63906191b5"
      },
      "source": [
        "#### Print actual vs. predicted results for LinearSVM with USE"
      ]
    },
    {
      "cell_type": "code",
      "execution_count": 70,
      "id": "9fb07728-d982-4964-90bc-bf41f0bde12c",
      "metadata": {
        "id": "9fb07728-d982-4964-90bc-bf41f0bde12c",
        "outputId": "da2dc521-1497-41ef-92be-0ed9290c7a06",
        "colab": {
          "base_uri": "https://localhost:8080/"
        }
      },
      "outputs": [
        {
          "output_type": "stream",
          "name": "stdout",
          "text": [
            "0 = negative, 1 = positive\n",
            "Actual: 0, SVM with USE embedding Predicted: 0\n",
            "\n",
            "Actual: 2, SVM with USE embedding Predicted: 2\n",
            "\n",
            "Actual: 2, SVM with USE embedding Predicted: 2\n",
            "\n",
            "Actual: 0, SVM with USE embedding Predicted: 0\n",
            "\n",
            "Actual: 1, SVM with USE embedding Predicted: 0\n",
            "\n",
            "Actual: 2, SVM with USE embedding Predicted: 2\n",
            "\n",
            "Actual: 1, SVM with USE embedding Predicted: 0\n",
            "\n",
            "Actual: 0, SVM with USE embedding Predicted: 0\n",
            "\n",
            "Actual: 0, SVM with USE embedding Predicted: 0\n",
            "\n",
            "Actual: 2, SVM with USE embedding Predicted: 2\n",
            "\n",
            "Actual: 2, SVM with USE embedding Predicted: 2\n",
            "\n",
            "Actual: 1, SVM with USE embedding Predicted: 0\n",
            "\n",
            "Actual: 0, SVM with USE embedding Predicted: 0\n",
            "\n",
            "Actual: 0, SVM with USE embedding Predicted: 0\n",
            "\n",
            "Actual: 0, SVM with USE embedding Predicted: 2\n",
            "\n"
          ]
        }
      ],
      "source": [
        "print('0 = negative, 1 = positive')\n",
        "for actual, predicted in zip(ytest[:15], y_pred_svm_use[:15]):\n",
        "    print(f\"Actual: {actual}, SVM with USE embedding Predicted: {predicted}\")\n",
        "    print()"
      ]
    },
    {
      "cell_type": "code",
      "execution_count": 71,
      "id": "10d6b544-a9e5-4262-ad6f-a6909d1776d7",
      "metadata": {
        "id": "10d6b544-a9e5-4262-ad6f-a6909d1776d7",
        "outputId": "4198dbfc-24f6-4522-dbe5-0221eae1c3ae",
        "colab": {
          "base_uri": "https://localhost:8080/"
        }
      },
      "outputs": [
        {
          "output_type": "stream",
          "name": "stdout",
          "text": [
            "LinearSVM (USE) Accuracy: 0.76\n",
            "LinearSVM (USE) Precision: 0.61\n",
            "LinearSVM (USE) Recall: 0.54\n",
            "LinearSVM (USE) F1 score: 0.53\n",
            "Classification Report:\n",
            "              precision    recall  f1-score   support\n",
            "\n",
            "           0       0.66      0.67      0.66       258\n",
            "           1       0.38      0.04      0.07        77\n",
            "           2       0.81      0.90      0.85       574\n",
            "\n",
            "    accuracy                           0.76       909\n",
            "   macro avg       0.61      0.54      0.53       909\n",
            "weighted avg       0.73      0.76      0.73       909\n",
            "\n",
            "Confusion Matrix\n",
            "[[172   4  82]\n",
            " [ 33   3  41]\n",
            " [ 56   1 517]]\n"
          ]
        }
      ],
      "source": [
        "print(f\"LinearSVM (USE) Accuracy: {accuracy_svm_use:.2f}\")\n",
        "print(f\"LinearSVM (USE) Precision: {precision_svm_use:.2f}\")\n",
        "print(f\"LinearSVM (USE) Recall: {recall_svm_use:.2f}\")\n",
        "print(f\"LinearSVM (USE) F1 score: {f1_svm_use:.2f}\")\n",
        "print(\"Classification Report:\")\n",
        "print(report_svm_use)\n",
        "print(\"Confusion Matrix\")\n",
        "print(cm_svm_use)"
      ]
    },
    {
      "cell_type": "markdown",
      "id": "b3cd44cc-ce2b-41fb-a883-5dcc3a50d6f2",
      "metadata": {
        "id": "b3cd44cc-ce2b-41fb-a883-5dcc3a50d6f2"
      },
      "source": [
        "### Logitic Regression"
      ]
    },
    {
      "cell_type": "code",
      "execution_count": 72,
      "id": "7697ced6-a18a-4187-987f-01f5b23f4d7a",
      "metadata": {
        "id": "7697ced6-a18a-4187-987f-01f5b23f4d7a",
        "outputId": "24d58826-7b81-44d2-dc1c-1b412e7a4a2f",
        "colab": {
          "base_uri": "https://localhost:8080/"
        }
      },
      "outputs": [
        {
          "output_type": "stream",
          "name": "stdout",
          "text": [
            "Required time for LR prediction with USE :-  0.026254715999925793\n"
          ]
        }
      ],
      "source": [
        "start = timer()\n",
        "y_pred_lr_use, accuracy_lr_use, precision_lr_use, recall_lr_use, f1_lr_use, report_lr_use, cm_lr_use = evaluate_model(lr_use, xtest_use, ytest)\n",
        "print('Required time for LR prediction with USE :- ', timer() - start)"
      ]
    },
    {
      "cell_type": "markdown",
      "id": "76c9e2af-4d09-4716-9f63-b4882dcd4b78",
      "metadata": {
        "id": "76c9e2af-4d09-4716-9f63-b4882dcd4b78"
      },
      "source": [
        "#### Print actual vs. predicted results for Logistic Regression with USE"
      ]
    },
    {
      "cell_type": "code",
      "execution_count": 73,
      "id": "3be83df8-b3a7-49c9-8774-7ecab4156fdb",
      "metadata": {
        "id": "3be83df8-b3a7-49c9-8774-7ecab4156fdb",
        "outputId": "2ddf51ef-55bf-4ca3-85ca-98212ee672f6",
        "colab": {
          "base_uri": "https://localhost:8080/"
        }
      },
      "outputs": [
        {
          "output_type": "stream",
          "name": "stdout",
          "text": [
            "0 = negative, 1 = positive\n",
            "Actual: 0, Logistic Regression Predicted with USE: 0\n",
            "\n",
            "Actual: 2, Logistic Regression Predicted with USE: 2\n",
            "\n",
            "Actual: 2, Logistic Regression Predicted with USE: 2\n",
            "\n",
            "Actual: 0, Logistic Regression Predicted with USE: 0\n",
            "\n",
            "Actual: 1, Logistic Regression Predicted with USE: 2\n",
            "\n",
            "Actual: 2, Logistic Regression Predicted with USE: 2\n",
            "\n",
            "Actual: 1, Logistic Regression Predicted with USE: 0\n",
            "\n",
            "Actual: 0, Logistic Regression Predicted with USE: 0\n",
            "\n",
            "Actual: 0, Logistic Regression Predicted with USE: 2\n",
            "\n",
            "Actual: 2, Logistic Regression Predicted with USE: 2\n",
            "\n",
            "Actual: 2, Logistic Regression Predicted with USE: 2\n",
            "\n",
            "Actual: 1, Logistic Regression Predicted with USE: 0\n",
            "\n",
            "Actual: 0, Logistic Regression Predicted with USE: 0\n",
            "\n",
            "Actual: 0, Logistic Regression Predicted with USE: 0\n",
            "\n",
            "Actual: 0, Logistic Regression Predicted with USE: 2\n",
            "\n"
          ]
        }
      ],
      "source": [
        "print('0 = negative, 1 = positive')\n",
        "for actual, predicted in zip(ytest[:15], y_pred_lr_use[:15]):\n",
        "    print(f\"Actual: {actual}, Logistic Regression Predicted with USE: {predicted}\")\n",
        "    print()"
      ]
    },
    {
      "cell_type": "code",
      "execution_count": 74,
      "id": "13cb5d68-dda4-4175-a76c-c284cca42275",
      "metadata": {
        "id": "13cb5d68-dda4-4175-a76c-c284cca42275",
        "outputId": "d6c3e138-7ef3-4f5b-c9c2-d368a6542a41",
        "colab": {
          "base_uri": "https://localhost:8080/"
        }
      },
      "outputs": [
        {
          "output_type": "stream",
          "name": "stdout",
          "text": [
            "Logistic Regression (USE) Accuracy: 0.76\n",
            "Logistic Regression (USE) Precision: 0.49\n",
            "Logistic Regression (USE) Recall: 0.52\n",
            "Logistic Regression (USE) F1 score: 0.50\n",
            "Classification Report:\n",
            "              precision    recall  f1-score   support\n",
            "\n",
            "           0       0.66      0.64      0.65       258\n",
            "           1       0.00      0.00      0.00        77\n",
            "           2       0.80      0.91      0.85       574\n",
            "\n",
            "    accuracy                           0.76       909\n",
            "   macro avg       0.49      0.52      0.50       909\n",
            "weighted avg       0.69      0.76      0.72       909\n",
            "\n",
            "Confusion Matrix\n",
            "[[164   3  91]\n",
            " [ 35   0  42]\n",
            " [ 50   0 524]]\n"
          ]
        }
      ],
      "source": [
        "print(f\"Logistic Regression (USE) Accuracy: {accuracy_lr_use:.2f}\")\n",
        "print(f\"Logistic Regression (USE) Precision: {precision_lr_use:.2f}\")\n",
        "print(f\"Logistic Regression (USE) Recall: {recall_lr_use:.2f}\")\n",
        "print(f\"Logistic Regression (USE) F1 score: {f1_lr_use:.2f}\")\n",
        "print(\"Classification Report:\")\n",
        "print(report_lr_use)\n",
        "print(\"Confusion Matrix\")\n",
        "print(cm_lr_use)"
      ]
    },
    {
      "cell_type": "markdown",
      "id": "7c67a1ff-2f71-4d6a-84a3-4f47a5598ed4",
      "metadata": {
        "id": "7c67a1ff-2f71-4d6a-84a3-4f47a5598ed4"
      },
      "source": [
        "### XGBoost Classifier"
      ]
    },
    {
      "cell_type": "code",
      "execution_count": 75,
      "id": "f924c51e-7524-4a0c-ac5c-224cddbef6f8",
      "metadata": {
        "id": "f924c51e-7524-4a0c-ac5c-224cddbef6f8",
        "outputId": "1811290c-0a51-4aab-8024-91e3ecc80c2e",
        "colab": {
          "base_uri": "https://localhost:8080/"
        }
      },
      "outputs": [
        {
          "output_type": "stream",
          "name": "stdout",
          "text": [
            "Required time for XGBoost classifier prediction with USE:-  0.032835342999987915\n"
          ]
        }
      ],
      "source": [
        "start = timer()\n",
        "y_pred_xgboost_use, accuracy_xgboost_use, precision_xgboost_use, recall_xgboost_use, f1_xgboost_use, report_xgboost_use, cm_xgboost_use = evaluate_model(xgboost_use, xtest_use, ytest)\n",
        "print('Required time for XGBoost classifier prediction with USE:- ', timer() - start)"
      ]
    },
    {
      "cell_type": "markdown",
      "id": "7014ca0b-a60b-4362-894a-42f3bd457b49",
      "metadata": {
        "id": "7014ca0b-a60b-4362-894a-42f3bd457b49"
      },
      "source": [
        "#### Print actual vs. predicted results for XGBooost classifier with USE"
      ]
    },
    {
      "cell_type": "code",
      "execution_count": 76,
      "id": "c4b81fed-c0a4-4326-b6b2-7638c3b26887",
      "metadata": {
        "id": "c4b81fed-c0a4-4326-b6b2-7638c3b26887",
        "outputId": "9a59801d-3534-49a0-9c5b-353560246f3b",
        "colab": {
          "base_uri": "https://localhost:8080/"
        }
      },
      "outputs": [
        {
          "output_type": "stream",
          "name": "stdout",
          "text": [
            "0 = negative, 1 = positive\n",
            "Actual: 0, XGBoost with USE Predicted: 0\n",
            "\n",
            "Actual: 2, XGBoost with USE Predicted: 2\n",
            "\n",
            "Actual: 2, XGBoost with USE Predicted: 2\n",
            "\n",
            "Actual: 0, XGBoost with USE Predicted: 0\n",
            "\n",
            "Actual: 1, XGBoost with USE Predicted: 0\n",
            "\n",
            "Actual: 2, XGBoost with USE Predicted: 2\n",
            "\n",
            "Actual: 1, XGBoost with USE Predicted: 2\n",
            "\n",
            "Actual: 0, XGBoost with USE Predicted: 0\n",
            "\n",
            "Actual: 0, XGBoost with USE Predicted: 0\n",
            "\n",
            "Actual: 2, XGBoost with USE Predicted: 2\n",
            "\n",
            "Actual: 2, XGBoost with USE Predicted: 2\n",
            "\n",
            "Actual: 1, XGBoost with USE Predicted: 0\n",
            "\n",
            "Actual: 0, XGBoost with USE Predicted: 0\n",
            "\n",
            "Actual: 0, XGBoost with USE Predicted: 0\n",
            "\n",
            "Actual: 0, XGBoost with USE Predicted: 0\n",
            "\n"
          ]
        }
      ],
      "source": [
        "print('0 = negative, 1 = positive')\n",
        "for actual, predicted in zip(ytest[:15], y_pred_xgboost_use[:15]):\n",
        "    print(f\"Actual: {actual}, XGBoost with USE Predicted: {predicted}\")\n",
        "    print()"
      ]
    },
    {
      "cell_type": "code",
      "execution_count": 77,
      "id": "3d11bbe0-28fa-482e-9872-c9523dcc874e",
      "metadata": {
        "id": "3d11bbe0-28fa-482e-9872-c9523dcc874e",
        "outputId": "60b53ff0-5e01-4bb2-f600-97f569da54bc",
        "colab": {
          "base_uri": "https://localhost:8080/"
        }
      },
      "outputs": [
        {
          "output_type": "stream",
          "name": "stdout",
          "text": [
            "XGBoost (USE) Accuracy: 0.76\n",
            "XGBoost (USE) Precision: 0.54\n",
            "XGBoost (USE) Recall: 0.52\n",
            "XGBoost (USE) F1 score: 0.51\n",
            "Classification Report:\n",
            "              precision    recall  f1-score   support\n",
            "\n",
            "           0       0.68      0.65      0.67       258\n",
            "           1       0.12      0.01      0.02        77\n",
            "           2       0.80      0.91      0.85       574\n",
            "\n",
            "    accuracy                           0.76       909\n",
            "   macro avg       0.54      0.52      0.51       909\n",
            "weighted avg       0.71      0.76      0.73       909\n",
            "\n",
            "Confusion Matrix:\n",
            "[[167   4  87]\n",
            " [ 31   1  45]\n",
            " [ 46   3 525]]\n"
          ]
        }
      ],
      "source": [
        "print(f\"XGBoost (USE) Accuracy: {accuracy_xgboost_use:.2f}\")\n",
        "print(f\"XGBoost (USE) Precision: {precision_xgboost_use:.2f}\")\n",
        "print(f\"XGBoost (USE) Recall: {recall_xgboost_use:.2f}\")\n",
        "print(f\"XGBoost (USE) F1 score: {f1_xgboost_use:.2f}\")\n",
        "print(\"Classification Report:\")\n",
        "print(report_xgboost_use)\n",
        "print(\"Confusion Matrix:\")\n",
        "print(cm_xgboost_use)"
      ]
    },
    {
      "cell_type": "markdown",
      "id": "f75e7d65-8506-4c59-a21d-3005666d1b2d",
      "metadata": {
        "id": "f75e7d65-8506-4c59-a21d-3005666d1b2d"
      },
      "source": [
        "### Random Forest Classifier"
      ]
    },
    {
      "cell_type": "code",
      "execution_count": 78,
      "id": "5fd0ff15-78bc-428c-83e0-4c4efdb8f9ed",
      "metadata": {
        "id": "5fd0ff15-78bc-428c-83e0-4c4efdb8f9ed",
        "outputId": "42616acb-ace3-461a-d6ec-9798baf7f237",
        "colab": {
          "base_uri": "https://localhost:8080/"
        }
      },
      "outputs": [
        {
          "output_type": "stream",
          "name": "stdout",
          "text": [
            "Required time for Random Forest classifier with USE prediction:-  0.03864831900000354\n"
          ]
        },
        {
          "output_type": "stream",
          "name": "stderr",
          "text": [
            "/usr/local/lib/python3.12/dist-packages/sklearn/metrics/_classification.py:1565: UndefinedMetricWarning: Precision is ill-defined and being set to 0.0 in labels with no predicted samples. Use `zero_division` parameter to control this behavior.\n",
            "  _warn_prf(average, modifier, f\"{metric.capitalize()} is\", len(result))\n",
            "/usr/local/lib/python3.12/dist-packages/sklearn/metrics/_classification.py:1565: UndefinedMetricWarning: Precision is ill-defined and being set to 0.0 in labels with no predicted samples. Use `zero_division` parameter to control this behavior.\n",
            "  _warn_prf(average, modifier, f\"{metric.capitalize()} is\", len(result))\n",
            "/usr/local/lib/python3.12/dist-packages/sklearn/metrics/_classification.py:1565: UndefinedMetricWarning: Precision is ill-defined and being set to 0.0 in labels with no predicted samples. Use `zero_division` parameter to control this behavior.\n",
            "  _warn_prf(average, modifier, f\"{metric.capitalize()} is\", len(result))\n",
            "/usr/local/lib/python3.12/dist-packages/sklearn/metrics/_classification.py:1565: UndefinedMetricWarning: Precision is ill-defined and being set to 0.0 in labels with no predicted samples. Use `zero_division` parameter to control this behavior.\n",
            "  _warn_prf(average, modifier, f\"{metric.capitalize()} is\", len(result))\n"
          ]
        }
      ],
      "source": [
        "start = timer()\n",
        "y_pred_rfc_use, accuracy_rfc_use, precision_rfc_use, recall_rfc_use, f1_rfc_use, report_rfc_use, cm_rfc_use = evaluate_model(rfc_use, xtest_use, ytest)\n",
        "print('Required time for Random Forest classifier with USE prediction:- ', timer() - start)"
      ]
    },
    {
      "cell_type": "markdown",
      "id": "bd3c72de-ac43-41ec-bf45-137179473e4c",
      "metadata": {
        "id": "bd3c72de-ac43-41ec-bf45-137179473e4c"
      },
      "source": [
        "#### Print actual vs. predicted results for Random Forest classifier with USE"
      ]
    },
    {
      "cell_type": "code",
      "execution_count": 79,
      "id": "f4cca2e7-8c13-4552-86ca-31e12bcaaba5",
      "metadata": {
        "id": "f4cca2e7-8c13-4552-86ca-31e12bcaaba5",
        "outputId": "6bd1722e-6613-47ac-cfd0-d111023c3693",
        "colab": {
          "base_uri": "https://localhost:8080/"
        }
      },
      "outputs": [
        {
          "output_type": "stream",
          "name": "stdout",
          "text": [
            "0 = negative, 1 = positive\n",
            "Actual: 0, Random Forest with USE Predicted: 0\n",
            "\n",
            "Actual: 2, Random Forest with USE Predicted: 2\n",
            "\n",
            "Actual: 2, Random Forest with USE Predicted: 2\n",
            "\n",
            "Actual: 0, Random Forest with USE Predicted: 0\n",
            "\n",
            "Actual: 1, Random Forest with USE Predicted: 2\n",
            "\n",
            "Actual: 2, Random Forest with USE Predicted: 2\n",
            "\n",
            "Actual: 1, Random Forest with USE Predicted: 0\n",
            "\n",
            "Actual: 0, Random Forest with USE Predicted: 2\n",
            "\n",
            "Actual: 0, Random Forest with USE Predicted: 2\n",
            "\n",
            "Actual: 2, Random Forest with USE Predicted: 2\n",
            "\n",
            "Actual: 2, Random Forest with USE Predicted: 2\n",
            "\n",
            "Actual: 1, Random Forest with USE Predicted: 2\n",
            "\n",
            "Actual: 0, Random Forest with USE Predicted: 2\n",
            "\n",
            "Actual: 0, Random Forest with USE Predicted: 2\n",
            "\n",
            "Actual: 0, Random Forest with USE Predicted: 2\n",
            "\n"
          ]
        }
      ],
      "source": [
        "print('0 = negative, 1 = positive')\n",
        "for actual, predicted in zip(ytest[:15], y_pred_rfc_use[:15]):\n",
        "    print(f\"Actual: {actual}, Random Forest with USE Predicted: {predicted}\")\n",
        "    print()"
      ]
    },
    {
      "cell_type": "code",
      "execution_count": 80,
      "id": "a0a3eb5b-660b-461e-831d-371abdacac9f",
      "metadata": {
        "id": "a0a3eb5b-660b-461e-831d-371abdacac9f",
        "outputId": "c6f09fbb-d267-4ecf-ce28-fc394d347845",
        "colab": {
          "base_uri": "https://localhost:8080/"
        }
      },
      "outputs": [
        {
          "output_type": "stream",
          "name": "stdout",
          "text": [
            "Random Forest (USE) Accuracy: 0.69\n",
            "Random Forest (USE) Precision: 0.46\n",
            "Random Forest (USE) Recall: 0.42\n",
            "Random Forest (USE) F1 score: 0.40\n",
            "Classification Report:\n",
            "              precision    recall  f1-score   support\n",
            "\n",
            "           0       0.68      0.28      0.40       258\n",
            "           1       0.00      0.00      0.00        77\n",
            "           2       0.69      0.96      0.80       574\n",
            "\n",
            "    accuracy                           0.69       909\n",
            "   macro avg       0.46      0.42      0.40       909\n",
            "weighted avg       0.63      0.69      0.62       909\n",
            "\n",
            "Confusion Matrix:\n",
            "[[ 73   0 185]\n",
            " [ 13   0  64]\n",
            " [ 21   0 553]]\n"
          ]
        }
      ],
      "source": [
        "print(f\"Random Forest (USE) Accuracy: {accuracy_rfc_use:.2f}\")\n",
        "print(f\"Random Forest (USE) Precision: {precision_rfc_use:.2f}\")\n",
        "print(f\"Random Forest (USE) Recall: {recall_rfc_use:.2f}\")\n",
        "print(f\"Random Forest (USE) F1 score: {f1_rfc_use:.2f}\")\n",
        "print(\"Classification Report:\")\n",
        "print(report_rfc_use)\n",
        "print(\"Confusion Matrix:\")\n",
        "print(cm_rfc_use)"
      ]
    },
    {
      "cell_type": "markdown",
      "id": "08674157-e878-426f-9376-6a47158b4db2",
      "metadata": {
        "id": "08674157-e878-426f-9376-6a47158b4db2"
      },
      "source": [
        "#### Display all four models accuracy\n",
        "##### (--Note: Naive bayes (MultinomialNB) model not used with USE embedding because it not able to resolve the issue of negative values)"
      ]
    },
    {
      "cell_type": "code",
      "execution_count": 81,
      "id": "5a7d2cbc-8a7f-4126-b782-34baa998410d",
      "metadata": {
        "id": "5a7d2cbc-8a7f-4126-b782-34baa998410d"
      },
      "outputs": [],
      "source": [
        "model_names = ['LinearSVM', 'LogisticRegression', 'XGBoost', 'RandomForest']\n",
        "model_accuracies = [accuracy_svm_use, accuracy_lr_use, accuracy_xgboost_use, accuracy_rfc_use]"
      ]
    },
    {
      "cell_type": "code",
      "execution_count": 82,
      "id": "f656cc76-8d6f-46c5-bdc7-75db37e32ff6",
      "metadata": {
        "id": "f656cc76-8d6f-46c5-bdc7-75db37e32ff6",
        "outputId": "95c2263d-b385-4e75-c4d9-6d5e51a0b73a",
        "colab": {
          "base_uri": "https://localhost:8080/",
          "height": 564
        }
      },
      "outputs": [
        {
          "output_type": "display_data",
          "data": {
            "text/plain": [
              "<Figure size 1000x600 with 1 Axes>"
            ],
            "image/png": "[encoded data removed]"
          },
          "metadata": {}
        }
      ],
      "source": [
        "plt.figure(figsize=(10, 6))\n",
        "plt.bar(model_names, model_accuracies, color=['blue', 'orange', 'red', 'purple'])\n",
        "plt.xlabel(\"Models\")\n",
        "plt.ylabel(\"Accuracy\")\n",
        "plt.title(\"Model Accuracy Comparison with USE\")\n",
        "plt.ylim(0.0, 1.0)  # Set the y-axis limits\n",
        "plt.grid(axis='y', linestyle='--', alpha=0.7)\n",
        "plt.show()\n"
      ]
    },
    {
      "cell_type": "code",
      "execution_count": null,
      "id": "f27c247f-8160-4f8d-bb3f-698f2e134f25",
      "metadata": {
        "id": "f27c247f-8160-4f8d-bb3f-698f2e134f25"
      },
      "outputs": [],
      "source": []
    },
    {
      "cell_type": "markdown",
      "id": "da1716d1-26fc-4bd8-be95-c8cab7b483bc",
      "metadata": {
        "id": "da1716d1-26fc-4bd8-be95-c8cab7b483bc"
      },
      "source": [
        "## 3. TF-IDF + Universal Sentence Encoder (USE)\n",
        "#### 1. Linear SVM\n",
        "#### 2. Logistic Regression\n",
        "#### 3. XGBoost classifier\n",
        "#### 4. Random Forest classifier"
      ]
    },
    {
      "cell_type": "markdown",
      "id": "22b0a099-a6d7-403d-87f3-a642d746251d",
      "metadata": {
        "id": "22b0a099-a6d7-403d-87f3-a642d746251d"
      },
      "source": [
        "#### Combine TF-IDF and Universal Sentence Encoder embeddings\n"
      ]
    },
    {
      "cell_type": "code",
      "execution_count": 86,
      "id": "65acc049-2ea5-455e-9753-845c774938f1",
      "metadata": {
        "id": "65acc049-2ea5-455e-9753-845c774938f1"
      },
      "outputs": [],
      "source": [
        "# xtrain_tfidf_use_combined = tf.concat([tfidf_vectorizer_xtrain, xtrain_use], axis=1)\n",
        "# xtest_tfidf_use_combined = tf.concat([tfidf_vectorizer_xtest, xtest_use], axis=1)\n",
        "\n",
        "from scipy.sparse import hstack\n",
        "\n",
        "xtrain_use_np = np.array(xtrain_use)\n",
        "xtest_use_np = np.array(xtest_use)\n",
        "\n",
        "xtrain_tfidf_use_combined = hstack([tfidf_vectorizer_xtrain, xtrain_use_np])\n",
        "xtest_tfidf_use_combined = hstack([tfidf_vectorizer_xtest, xtest_use_np])"
      ]
    },
    {
      "cell_type": "markdown",
      "id": "d722ffc4-9aa0-467b-8bff-7a31125fd782",
      "metadata": {
        "id": "d722ffc4-9aa0-467b-8bff-7a31125fd782"
      },
      "source": [
        "#### Fit classifiers"
      ]
    },
    {
      "cell_type": "code",
      "execution_count": 87,
      "id": "96486ca5-c5fc-456f-8ef2-7f96eed0b435",
      "metadata": {
        "id": "96486ca5-c5fc-456f-8ef2-7f96eed0b435",
        "outputId": "519cced2-b777-4949-ab78-02eab8448f35",
        "colab": {
          "base_uri": "https://localhost:8080/"
        }
      },
      "outputs": [
        {
          "output_type": "stream",
          "name": "stdout",
          "text": [
            "Required time for training Linear SVM:-  0.8986110739999731\n",
            "Required time for training Logistic Regression:-  3.111325459999989\n",
            "Required time for training XGBoost classifier:-  30.194791183999996\n",
            "Required time for training Random Forest classifier:-  0.7885609659999773\n"
          ]
        }
      ],
      "source": [
        "start = timer()\n",
        "svm_tfidf_use = svm_classifier.fit(xtrain_tfidf_use_combined, ytrain)\n",
        "print('Required time for training Linear SVM:- ', timer() - start)\n",
        "start = timer()\n",
        "lr_tfidf_use = logistic_regression.fit(xtrain_tfidf_use_combined, ytrain)\n",
        "print('Required time for training Logistic Regression:- ', timer() - start)\n",
        "start = timer()\n",
        "xgboost_tfidf_use = xgboost_classifier.fit(xtrain_tfidf_use_combined, ytrain)\n",
        "print('Required time for training XGBoost classifier:- ', timer() - start)\n",
        "start = timer()\n",
        "rfc_tfidf_use = random_forest_classifier.fit(xtrain_tfidf_use_combined, ytrain)\n",
        "print('Required time for training Random Forest classifier:- ', timer() - start)"
      ]
    },
    {
      "cell_type": "markdown",
      "id": "03ad8659-041b-4f03-ac37-bda2a7a6bb75",
      "metadata": {
        "id": "03ad8659-041b-4f03-ac37-bda2a7a6bb75"
      },
      "source": [
        "#### Make predictions"
      ]
    },
    {
      "cell_type": "markdown",
      "id": "4691ce83-3a27-469f-9bf8-ca91e6cded61",
      "metadata": {
        "id": "4691ce83-3a27-469f-9bf8-ca91e6cded61"
      },
      "source": [
        "### Linear SVM"
      ]
    },
    {
      "cell_type": "code",
      "execution_count": 88,
      "id": "142f6937-5ca9-4dea-bdd5-4ede0b537783",
      "metadata": {
        "id": "142f6937-5ca9-4dea-bdd5-4ede0b537783",
        "outputId": "03e4f0ca-7502-488e-de73-94cf2f4be83a",
        "colab": {
          "base_uri": "https://localhost:8080/"
        }
      },
      "outputs": [
        {
          "output_type": "stream",
          "name": "stdout",
          "text": [
            "Required time for Linear SVM prediction with TFIDF+USE :-  0.016688415000089662\n"
          ]
        }
      ],
      "source": [
        "start = timer()\n",
        "y_pred_svm_tfidf_use, accuracy_svm_tfidf_use, precision_svm_tfidf_use, recall_svm_tfidf_use, f1_svm_tfidf_use, report_svm_tfidf_use, cm_svm_tfidf_use = evaluate_model(svm_tfidf_use, xtest_tfidf_use_combined, ytest)\n",
        "print('Required time for Linear SVM prediction with TFIDF+USE :- ', timer() - start)"
      ]
    },
    {
      "cell_type": "markdown",
      "id": "da1c1abb-d1eb-4f44-8e90-33160f357c1b",
      "metadata": {
        "id": "da1c1abb-d1eb-4f44-8e90-33160f357c1b"
      },
      "source": [
        "#### Print actual vs. predicted results for Linear SVM with TFIDF + USE"
      ]
    },
    {
      "cell_type": "code",
      "execution_count": 89,
      "id": "d77ff7f6-af5d-44de-b4a9-5c2020255b69",
      "metadata": {
        "id": "d77ff7f6-af5d-44de-b4a9-5c2020255b69",
        "outputId": "118921fc-ad55-464c-93f9-aa8391ab8211",
        "colab": {
          "base_uri": "https://localhost:8080/"
        }
      },
      "outputs": [
        {
          "output_type": "stream",
          "name": "stdout",
          "text": [
            "0 = negative, 1 = positive\n",
            "Actual: 0, SVM with TFIDF+USE Predicted: 0\n",
            "\n",
            "Actual: 2, SVM with TFIDF+USE Predicted: 2\n",
            "\n",
            "Actual: 2, SVM with TFIDF+USE Predicted: 2\n",
            "\n",
            "Actual: 0, SVM with TFIDF+USE Predicted: 0\n",
            "\n",
            "Actual: 1, SVM with TFIDF+USE Predicted: 0\n",
            "\n",
            "Actual: 2, SVM with TFIDF+USE Predicted: 2\n",
            "\n",
            "Actual: 1, SVM with TFIDF+USE Predicted: 0\n",
            "\n",
            "Actual: 0, SVM with TFIDF+USE Predicted: 0\n",
            "\n",
            "Actual: 0, SVM with TFIDF+USE Predicted: 0\n",
            "\n",
            "Actual: 2, SVM with TFIDF+USE Predicted: 2\n",
            "\n",
            "Actual: 2, SVM with TFIDF+USE Predicted: 2\n",
            "\n",
            "Actual: 1, SVM with TFIDF+USE Predicted: 0\n",
            "\n",
            "Actual: 0, SVM with TFIDF+USE Predicted: 0\n",
            "\n",
            "Actual: 0, SVM with TFIDF+USE Predicted: 2\n",
            "\n",
            "Actual: 0, SVM with TFIDF+USE Predicted: 2\n",
            "\n"
          ]
        }
      ],
      "source": [
        "print('0 = negative, 1 = positive')\n",
        "for actual, predicted in zip(ytest[:15], y_pred_svm_tfidf_use[:15]):\n",
        "    print(f\"Actual: {actual}, SVM with TFIDF+USE Predicted: {predicted}\")\n",
        "    print()"
      ]
    },
    {
      "cell_type": "code",
      "execution_count": 90,
      "id": "515c87ab-fee7-4c71-af17-020e45c00ae0",
      "metadata": {
        "id": "515c87ab-fee7-4c71-af17-020e45c00ae0",
        "outputId": "5ddd9371-275e-42be-95a1-22b48c045ca1",
        "colab": {
          "base_uri": "https://localhost:8080/"
        }
      },
      "outputs": [
        {
          "output_type": "stream",
          "name": "stdout",
          "text": [
            "LinearSVM (TFIDF+USE) Accuracy: 0.79\n",
            "LinearSVM (TFIDF+USE) Precision: 0.59\n",
            "LinearSVM (TFIDF+USE) Recall: 0.57\n",
            "LinearSVM (TFIDF+USE) F1 score: 0.57\n",
            "Classification Report:\n",
            "              precision    recall  f1-score   support\n",
            "\n",
            "           0       0.72      0.70      0.71       258\n",
            "           1       0.21      0.09      0.13        77\n",
            "           2       0.85      0.92      0.88       574\n",
            "\n",
            "    accuracy                           0.79       909\n",
            "   macro avg       0.59      0.57      0.57       909\n",
            "weighted avg       0.76      0.79      0.77       909\n",
            "\n",
            "Confusion Matrix\n",
            "[[180  18  60]\n",
            " [ 35   7  35]\n",
            " [ 36   9 529]]\n"
          ]
        }
      ],
      "source": [
        "print(f\"LinearSVM (TFIDF+USE) Accuracy: {accuracy_svm_tfidf_use:.2f}\")\n",
        "print(f\"LinearSVM (TFIDF+USE) Precision: {precision_svm_tfidf_use:.2f}\")\n",
        "print(f\"LinearSVM (TFIDF+USE) Recall: {recall_svm_tfidf_use:.2f}\")\n",
        "print(f\"LinearSVM (TFIDF+USE) F1 score: {f1_svm_tfidf_use:.2f}\")\n",
        "print(\"Classification Report:\")\n",
        "print(report_svm_tfidf_use)\n",
        "print(\"Confusion Matrix\")\n",
        "print(cm_svm_tfidf_use)"
      ]
    },
    {
      "cell_type": "markdown",
      "id": "67dced06-8dcb-4bde-baf4-bc622d17a5b4",
      "metadata": {
        "id": "67dced06-8dcb-4bde-baf4-bc622d17a5b4"
      },
      "source": [
        "### Logistic Regression"
      ]
    },
    {
      "cell_type": "code",
      "execution_count": 91,
      "id": "3c4fef99-7d9d-428a-a72c-d9403271711a",
      "metadata": {
        "id": "3c4fef99-7d9d-428a-a72c-d9403271711a",
        "outputId": "1d52c48f-2def-4b3a-a5a2-4b0120b49b48",
        "colab": {
          "base_uri": "https://localhost:8080/"
        }
      },
      "outputs": [
        {
          "output_type": "stream",
          "name": "stdout",
          "text": [
            "Required time for Logistic Regression prediction with TFIDF+USE :-  0.02805165500012663\n"
          ]
        }
      ],
      "source": [
        "start = timer()\n",
        "y_pred_lr_tfidf_use, accuracy_lr_tfidf_use, precision_lr_tfidf_use, recall_lr_tfidf_use, f1_lr_tfidf_use, report_lr_tfidf_use, cm_lr_tfidf_use = evaluate_model(lr_tfidf_use, xtest_tfidf_use_combined, ytest)\n",
        "print('Required time for Logistic Regression prediction with TFIDF+USE :- ', timer() - start)"
      ]
    },
    {
      "cell_type": "markdown",
      "id": "f53793f7-9922-4c3d-91de-042cedc8f807",
      "metadata": {
        "id": "f53793f7-9922-4c3d-91de-042cedc8f807"
      },
      "source": [
        "#### Print actual vs. predicted results for Logistic Regression with TFIDF + USE"
      ]
    },
    {
      "cell_type": "code",
      "execution_count": 92,
      "id": "17846db8-46d3-48f2-8b46-0052203605d7",
      "metadata": {
        "id": "17846db8-46d3-48f2-8b46-0052203605d7",
        "outputId": "a46c1c42-f770-4bc3-d8bb-7508210a75ec",
        "colab": {
          "base_uri": "https://localhost:8080/"
        }
      },
      "outputs": [
        {
          "output_type": "stream",
          "name": "stdout",
          "text": [
            "0 = negative, 1 = positive\n",
            "Actual: 0, LR with TFIDF+USE embedding Predicted: 0\n",
            "\n",
            "Actual: 2, LR with TFIDF+USE embedding Predicted: 2\n",
            "\n",
            "Actual: 2, LR with TFIDF+USE embedding Predicted: 2\n",
            "\n",
            "Actual: 0, LR with TFIDF+USE embedding Predicted: 0\n",
            "\n",
            "Actual: 1, LR with TFIDF+USE embedding Predicted: 0\n",
            "\n",
            "Actual: 2, LR with TFIDF+USE embedding Predicted: 2\n",
            "\n",
            "Actual: 1, LR with TFIDF+USE embedding Predicted: 0\n",
            "\n",
            "Actual: 0, LR with TFIDF+USE embedding Predicted: 0\n",
            "\n",
            "Actual: 0, LR with TFIDF+USE embedding Predicted: 0\n",
            "\n",
            "Actual: 2, LR with TFIDF+USE embedding Predicted: 2\n",
            "\n",
            "Actual: 2, LR with TFIDF+USE embedding Predicted: 2\n",
            "\n",
            "Actual: 1, LR with TFIDF+USE embedding Predicted: 0\n",
            "\n",
            "Actual: 0, LR with TFIDF+USE embedding Predicted: 0\n",
            "\n",
            "Actual: 0, LR with TFIDF+USE embedding Predicted: 0\n",
            "\n",
            "Actual: 0, LR with TFIDF+USE embedding Predicted: 2\n",
            "\n"
          ]
        }
      ],
      "source": [
        "print('0 = negative, 1 = positive')\n",
        "for actual, predicted in zip(ytest[:15], y_pred_lr_tfidf_use[:15]):\n",
        "    print(f\"Actual: {actual}, LR with TFIDF+USE embedding Predicted: {predicted}\")\n",
        "    print()"
      ]
    },
    {
      "cell_type": "code",
      "execution_count": 93,
      "id": "cad1a480-5284-47de-ba8f-45dcb3e0416e",
      "metadata": {
        "id": "cad1a480-5284-47de-ba8f-45dcb3e0416e",
        "outputId": "cda0aa1c-3cac-44fe-fc04-a5b200bf862b",
        "colab": {
          "base_uri": "https://localhost:8080/"
        }
      },
      "outputs": [
        {
          "output_type": "stream",
          "name": "stdout",
          "text": [
            "Logistic Regression (TFIDF+USE) Accuracy: 0.81\n",
            "Logistic Regression (TFIDF+USE) Precision: 0.60\n",
            "Logistic Regression (TFIDF+USE) Recall: 0.57\n",
            "Logistic Regression (TFIDF+USE) F1 score: 0.56\n",
            "Classification Report:\n",
            "              precision    recall  f1-score   support\n",
            "\n",
            "           0       0.73      0.75      0.74       258\n",
            "           1       0.22      0.03      0.05        77\n",
            "           2       0.85      0.94      0.89       574\n",
            "\n",
            "    accuracy                           0.81       909\n",
            "   macro avg       0.60      0.57      0.56       909\n",
            "weighted avg       0.76      0.81      0.78       909\n",
            "\n",
            "Confusion Matrix\n",
            "[[193   7  58]\n",
            " [ 37   2  38]\n",
            " [ 36   0 538]]\n"
          ]
        }
      ],
      "source": [
        "print(f\"Logistic Regression (TFIDF+USE) Accuracy: {accuracy_lr_tfidf_use:.2f}\")\n",
        "print(f\"Logistic Regression (TFIDF+USE) Precision: {precision_lr_tfidf_use:.2f}\")\n",
        "print(f\"Logistic Regression (TFIDF+USE) Recall: {recall_lr_tfidf_use:.2f}\")\n",
        "print(f\"Logistic Regression (TFIDF+USE) F1 score: {f1_lr_tfidf_use:.2f}\")\n",
        "print(\"Classification Report:\")\n",
        "print(report_lr_tfidf_use)\n",
        "print(\"Confusion Matrix\")\n",
        "print(cm_lr_tfidf_use)"
      ]
    },
    {
      "cell_type": "markdown",
      "id": "efa9795b-8764-4336-ae44-83c3cd311099",
      "metadata": {
        "id": "efa9795b-8764-4336-ae44-83c3cd311099"
      },
      "source": [
        "### XGBoost Classifier"
      ]
    },
    {
      "cell_type": "code",
      "execution_count": 94,
      "id": "10275f78-28d7-4bf9-981e-350ec5f42dcc",
      "metadata": {
        "id": "10275f78-28d7-4bf9-981e-350ec5f42dcc",
        "outputId": "d54b542f-41e2-4b7e-a57f-77b68fe84e74",
        "colab": {
          "base_uri": "https://localhost:8080/"
        }
      },
      "outputs": [
        {
          "output_type": "stream",
          "name": "stdout",
          "text": [
            "Required time for XGBoost prediction with TFIDF+USE :-  0.038494893000006414\n"
          ]
        }
      ],
      "source": [
        "start = timer()\n",
        "y_pred_xgb_tfidf_use, accuracy_xgb_tfidf_use, precision_xgb_tfidf_use, recall_xgb_tfidf_use, f1_xgb_tfidf_use, report_xgb_tfidf_use, cm_xgb_tfidf_use = evaluate_model(xgboost_tfidf_use, xtest_tfidf_use_combined, ytest)\n",
        "print('Required time for XGBoost prediction with TFIDF+USE :- ', timer() - start)"
      ]
    },
    {
      "cell_type": "markdown",
      "id": "57a77adf-2bfd-4756-a246-a9f5f200ecf7",
      "metadata": {
        "id": "57a77adf-2bfd-4756-a246-a9f5f200ecf7"
      },
      "source": [
        "#### Print actual vs. predicted results for XGBoost with TFIDF + USE"
      ]
    },
    {
      "cell_type": "code",
      "execution_count": 95,
      "id": "5413edb4-5085-4c9a-8ccf-dc354a3764a4",
      "metadata": {
        "id": "5413edb4-5085-4c9a-8ccf-dc354a3764a4",
        "outputId": "240b4a37-45d1-44e8-a54a-5a2a296f553a",
        "colab": {
          "base_uri": "https://localhost:8080/"
        }
      },
      "outputs": [
        {
          "output_type": "stream",
          "name": "stdout",
          "text": [
            "0 = negative, 1 = positive\n",
            "Actual: 0, XGBoost with TFIDF+USE embedding Predicted: 0\n",
            "\n",
            "Actual: 2, XGBoost with TFIDF+USE embedding Predicted: 2\n",
            "\n",
            "Actual: 2, XGBoost with TFIDF+USE embedding Predicted: 2\n",
            "\n",
            "Actual: 0, XGBoost with TFIDF+USE embedding Predicted: 0\n",
            "\n",
            "Actual: 1, XGBoost with TFIDF+USE embedding Predicted: 0\n",
            "\n",
            "Actual: 2, XGBoost with TFIDF+USE embedding Predicted: 2\n",
            "\n",
            "Actual: 1, XGBoost with TFIDF+USE embedding Predicted: 2\n",
            "\n",
            "Actual: 0, XGBoost with TFIDF+USE embedding Predicted: 0\n",
            "\n",
            "Actual: 0, XGBoost with TFIDF+USE embedding Predicted: 0\n",
            "\n",
            "Actual: 2, XGBoost with TFIDF+USE embedding Predicted: 2\n",
            "\n",
            "Actual: 2, XGBoost with TFIDF+USE embedding Predicted: 2\n",
            "\n",
            "Actual: 1, XGBoost with TFIDF+USE embedding Predicted: 0\n",
            "\n",
            "Actual: 0, XGBoost with TFIDF+USE embedding Predicted: 0\n",
            "\n",
            "Actual: 0, XGBoost with TFIDF+USE embedding Predicted: 0\n",
            "\n",
            "Actual: 0, XGBoost with TFIDF+USE embedding Predicted: 2\n",
            "\n"
          ]
        }
      ],
      "source": [
        "print('0 = negative, 1 = positive')\n",
        "for actual, predicted in zip(ytest[:15], y_pred_xgb_tfidf_use[:15]):\n",
        "    print(f\"Actual: {actual}, XGBoost with TFIDF+USE embedding Predicted: {predicted}\")\n",
        "    print()"
      ]
    },
    {
      "cell_type": "code",
      "execution_count": 96,
      "id": "42650d91-fe30-4f9e-a5b0-c09564749491",
      "metadata": {
        "id": "42650d91-fe30-4f9e-a5b0-c09564749491",
        "outputId": "d0b9aa22-359d-4642-d2e5-784c63bc3f5a",
        "colab": {
          "base_uri": "https://localhost:8080/"
        }
      },
      "outputs": [
        {
          "output_type": "stream",
          "name": "stdout",
          "text": [
            "XGBoost (TFIDF+USE) Accuracy: 0.79\n",
            "XGBoost (TFIDF+USE) Precision: 0.56\n",
            "XGBoost (TFIDF+USE) Recall: 0.55\n",
            "XGBoost (TFIDF+USE) F1 score: 0.54\n",
            "Classification Report:\n",
            "              precision    recall  f1-score   support\n",
            "\n",
            "           0       0.72      0.70      0.71       258\n",
            "           1       0.14      0.01      0.02        77\n",
            "           2       0.82      0.93      0.87       574\n",
            "\n",
            "    accuracy                           0.79       909\n",
            "   macro avg       0.56      0.55      0.54       909\n",
            "weighted avg       0.73      0.79      0.75       909\n",
            "\n",
            "Confusion Matrix:\n",
            "[[181   2  75]\n",
            " [ 32   1  44]\n",
            " [ 37   4 533]]\n"
          ]
        }
      ],
      "source": [
        "print(f\"XGBoost (TFIDF+USE) Accuracy: {accuracy_xgb_tfidf_use:.2f}\")\n",
        "print(f\"XGBoost (TFIDF+USE) Precision: {precision_xgb_tfidf_use:.2f}\")\n",
        "print(f\"XGBoost (TFIDF+USE) Recall: {recall_xgb_tfidf_use:.2f}\")\n",
        "print(f\"XGBoost (TFIDF+USE) F1 score: {f1_xgb_tfidf_use:.2f}\")\n",
        "print(\"Classification Report:\")\n",
        "print(report_xgb_tfidf_use)\n",
        "print(\"Confusion Matrix:\")\n",
        "print(cm_xgb_tfidf_use)"
      ]
    },
    {
      "cell_type": "markdown",
      "id": "aa69aa30-2ff4-4c02-983d-e7d30bf0148d",
      "metadata": {
        "id": "aa69aa30-2ff4-4c02-983d-e7d30bf0148d"
      },
      "source": [
        "### Random Forest classifier"
      ]
    },
    {
      "cell_type": "code",
      "execution_count": 97,
      "id": "b72207a8-49fd-4433-9335-6dc521e76791",
      "metadata": {
        "id": "b72207a8-49fd-4433-9335-6dc521e76791",
        "outputId": "493d7fed-f02e-4eba-99db-1a9e799938cc",
        "colab": {
          "base_uri": "https://localhost:8080/"
        }
      },
      "outputs": [
        {
          "output_type": "stream",
          "name": "stdout",
          "text": [
            "Required time for Random Forest prediction with TFIDF+USE :-  0.0742179460000898\n"
          ]
        },
        {
          "output_type": "stream",
          "name": "stderr",
          "text": [
            "/usr/local/lib/python3.12/dist-packages/sklearn/metrics/_classification.py:1565: UndefinedMetricWarning: Precision is ill-defined and being set to 0.0 in labels with no predicted samples. Use `zero_division` parameter to control this behavior.\n",
            "  _warn_prf(average, modifier, f\"{metric.capitalize()} is\", len(result))\n",
            "/usr/local/lib/python3.12/dist-packages/sklearn/metrics/_classification.py:1565: UndefinedMetricWarning: Precision is ill-defined and being set to 0.0 in labels with no predicted samples. Use `zero_division` parameter to control this behavior.\n",
            "  _warn_prf(average, modifier, f\"{metric.capitalize()} is\", len(result))\n",
            "/usr/local/lib/python3.12/dist-packages/sklearn/metrics/_classification.py:1565: UndefinedMetricWarning: Precision is ill-defined and being set to 0.0 in labels with no predicted samples. Use `zero_division` parameter to control this behavior.\n",
            "  _warn_prf(average, modifier, f\"{metric.capitalize()} is\", len(result))\n",
            "/usr/local/lib/python3.12/dist-packages/sklearn/metrics/_classification.py:1565: UndefinedMetricWarning: Precision is ill-defined and being set to 0.0 in labels with no predicted samples. Use `zero_division` parameter to control this behavior.\n",
            "  _warn_prf(average, modifier, f\"{metric.capitalize()} is\", len(result))\n"
          ]
        }
      ],
      "source": [
        "start = timer()\n",
        "y_pred_rfc_tfidf_use, accuracy_rfc_tfidf_use, precision_rfc_tfidf_use, recall_rfc_tfidf_use, f1_rfc_tfidf_use, report_rfc_tfidf_use, cm_rfc_tfidf_use = evaluate_model(rfc_tfidf_use, xtest_tfidf_use_combined, ytest)\n",
        "print('Required time for Random Forest prediction with TFIDF+USE :- ', timer() - start)"
      ]
    },
    {
      "cell_type": "markdown",
      "id": "6df8a34b-ddac-4154-b674-f84008bf373d",
      "metadata": {
        "id": "6df8a34b-ddac-4154-b674-f84008bf373d"
      },
      "source": [
        "#### Print actual vs. predicted results for Random Forest with TFIDF + USE"
      ]
    },
    {
      "cell_type": "code",
      "execution_count": 98,
      "id": "e1eba937-e203-440a-bf96-f37f51e3b14c",
      "metadata": {
        "id": "e1eba937-e203-440a-bf96-f37f51e3b14c",
        "outputId": "f5828a12-c280-4c75-da77-b5b93a65fc3d",
        "colab": {
          "base_uri": "https://localhost:8080/"
        }
      },
      "outputs": [
        {
          "output_type": "stream",
          "name": "stdout",
          "text": [
            "0 = negative, 1 = positive\n",
            "Actual: 0, RFC with TFIDF+USE embedding Predicted: 0\n",
            "\n",
            "Actual: 2, RFC with TFIDF+USE embedding Predicted: 2\n",
            "\n",
            "Actual: 2, RFC with TFIDF+USE embedding Predicted: 2\n",
            "\n",
            "Actual: 0, RFC with TFIDF+USE embedding Predicted: 2\n",
            "\n",
            "Actual: 1, RFC with TFIDF+USE embedding Predicted: 2\n",
            "\n",
            "Actual: 2, RFC with TFIDF+USE embedding Predicted: 2\n",
            "\n",
            "Actual: 1, RFC with TFIDF+USE embedding Predicted: 0\n",
            "\n",
            "Actual: 0, RFC with TFIDF+USE embedding Predicted: 2\n",
            "\n",
            "Actual: 0, RFC with TFIDF+USE embedding Predicted: 2\n",
            "\n",
            "Actual: 2, RFC with TFIDF+USE embedding Predicted: 2\n",
            "\n",
            "Actual: 2, RFC with TFIDF+USE embedding Predicted: 2\n",
            "\n",
            "Actual: 1, RFC with TFIDF+USE embedding Predicted: 2\n",
            "\n",
            "Actual: 0, RFC with TFIDF+USE embedding Predicted: 2\n",
            "\n",
            "Actual: 0, RFC with TFIDF+USE embedding Predicted: 2\n",
            "\n",
            "Actual: 0, RFC with TFIDF+USE embedding Predicted: 2\n",
            "\n"
          ]
        }
      ],
      "source": [
        "print('0 = negative, 1 = positive')\n",
        "for actual, predicted in zip(ytest[:15], y_pred_rfc_tfidf_use[:15]):\n",
        "    print(f\"Actual: {actual}, RFC with TFIDF+USE embedding Predicted: {predicted}\")\n",
        "    print()"
      ]
    },
    {
      "cell_type": "code",
      "execution_count": 99,
      "id": "4eee78c6-2fed-4d25-bdc8-44e87bc20702",
      "metadata": {
        "id": "4eee78c6-2fed-4d25-bdc8-44e87bc20702",
        "outputId": "4b372e21-6383-4cab-9ad1-2c737a1c55a2",
        "colab": {
          "base_uri": "https://localhost:8080/"
        }
      },
      "outputs": [
        {
          "output_type": "stream",
          "name": "stdout",
          "text": [
            "Random Forest (TFIDF+USE) Accuracy: 0.66\n",
            "Random Forest (TFIDF+USE) Precision: 0.45\n",
            "Random Forest (TFIDF+USE) Recall: 0.37\n",
            "Random Forest (TFIDF+USE) F1 score: 0.33\n",
            "Classification Report:\n",
            "              precision    recall  f1-score   support\n",
            "\n",
            "           0       0.68      0.11      0.19       258\n",
            "           1       0.00      0.00      0.00        77\n",
            "           2       0.66      0.99      0.79       574\n",
            "\n",
            "    accuracy                           0.66       909\n",
            "   macro avg       0.45      0.37      0.33       909\n",
            "weighted avg       0.61      0.66      0.55       909\n",
            "\n",
            "Confusion Matrix:\n",
            "[[ 28   0 230]\n",
            " [  9   0  68]\n",
            " [  4   0 570]]\n"
          ]
        }
      ],
      "source": [
        "print(f\"Random Forest (TFIDF+USE) Accuracy: {accuracy_rfc_tfidf_use:.2f}\")\n",
        "print(f\"Random Forest (TFIDF+USE) Precision: {precision_rfc_tfidf_use:.2f}\")\n",
        "print(f\"Random Forest (TFIDF+USE) Recall: {recall_rfc_tfidf_use:.2f}\")\n",
        "print(f\"Random Forest (TFIDF+USE) F1 score: {f1_rfc_tfidf_use:.2f}\")\n",
        "print(\"Classification Report:\")\n",
        "print(report_rfc_tfidf_use)\n",
        "print(\"Confusion Matrix:\")\n",
        "print(cm_rfc_tfidf_use)"
      ]
    },
    {
      "cell_type": "markdown",
      "id": "cb06d7db-08f2-47a3-9726-2d40a989d50a",
      "metadata": {
        "id": "cb06d7db-08f2-47a3-9726-2d40a989d50a"
      },
      "source": [
        "### Visualization"
      ]
    },
    {
      "cell_type": "code",
      "execution_count": 100,
      "id": "6e41982b-c09b-4e55-811c-eb522ca0edfa",
      "metadata": {
        "id": "6e41982b-c09b-4e55-811c-eb522ca0edfa",
        "outputId": "e42bb55c-dc98-4a52-c023-51e0f36b3c2e",
        "colab": {
          "base_uri": "https://localhost:8080/",
          "height": 607
        }
      },
      "outputs": [
        {
          "output_type": "display_data",
          "data": {
            "text/plain": [
              "<Figure size 1000x600 with 1 Axes>"
            ],
            "image/png": "[encoded data removed]"
          },
          "metadata": {}
        }
      ],
      "source": [
        "# Define the classifiers and their corresponding accuracies\n",
        "classifiers = [\"Linear SVM\", \"Logistic Regression\", \"XGBoost\", \"Random Forest\"]\n",
        "tfidf_accuracies = [accuracy_svm, accuracy_lr, accuracy_xgboost, accuracy_rfc]  # Replace with actual accuracy values\n",
        "use_accuracies = [accuracy_svm_use, accuracy_lr_use, accuracy_xgboost_use, accuracy_rfc_use]  # Replace with actual accuracy values\n",
        "tfidf_use_accuracies = [accuracy_svm_tfidf_use, accuracy_lr_tfidf_use, accuracy_xgb_tfidf_use, accuracy_rfc_tfidf_use]  # Replace with actual accuracy values\n",
        "\n",
        "# Create an index for the x-axis\n",
        "x = np.arange(len(classifiers))\n",
        "\n",
        "# Set the width of the bars\n",
        "bar_width = 0.25\n",
        "\n",
        "# Create a grouped bar chart\n",
        "plt.figure(figsize=(10, 6))\n",
        "plt.bar(x - bar_width, tfidf_accuracies, bar_width, label='TF-IDF', color='orange')\n",
        "plt.bar(x, use_accuracies, bar_width, label='USE', color='purple')\n",
        "plt.bar(x + bar_width, tfidf_use_accuracies, bar_width, label='TF-IDF+USE', color='red')\n",
        "\n",
        "# Set labels, title, and legend\n",
        "plt.xlabel('Classifiers')\n",
        "plt.ylabel('Accuracy')\n",
        "plt.title('Classifier Accuracies with Different Embeddings')\n",
        "plt.xticks(x, classifiers)\n",
        "plt.ylim(0, 1.0)\n",
        "plt.legend()\n",
        "\n",
        "# Add accuracy values on top of the bars\n",
        "for i in range(len(classifiers)):\n",
        "    plt.text(x[i] - bar_width, tfidf_accuracies[i] + 0.02, f\"{tfidf_accuracies[i]:.2f}\", ha='center')\n",
        "    plt.text(x[i], use_accuracies[i] + 0.02, f\"{use_accuracies[i]:.2f}\", ha='center')\n",
        "    plt.text(x[i] + bar_width, tfidf_use_accuracies[i] + 0.02, f\"{tfidf_use_accuracies[i]:.2f}\", ha='center')\n",
        "\n",
        "\n",
        "# Display the plot\n",
        "plt.tight_layout()\n",
        "plt.show()\n"
      ]
    },
    {
      "cell_type": "markdown",
      "id": "4abcd9d7-6bd7-4437-affb-b5fc9da3c16c",
      "metadata": {
        "id": "4abcd9d7-6bd7-4437-affb-b5fc9da3c16c"
      },
      "source": [
        "#### Conclusion: If you see above visualization, as compared to TF-IDF embedding, USE as well as TF-IDF+USE embeddings works better for sentiment analysis on IMDB dataset with different classifiers"
      ]
    },
    {
      "cell_type": "code",
      "execution_count": 100,
      "id": "c49df456-a282-40c4-ba25-34d7c2c6e358",
      "metadata": {
        "id": "c49df456-a282-40c4-ba25-34d7c2c6e358"
      },
      "outputs": [],
      "source": []
    },
    {
      "cell_type": "markdown",
      "source": [
        "Reference:\n",
        "https://github.com/FarhanaTeli/Sentiment_Analysis_IMDB\n",
        "\n",
        "https://github.com/Wittline/tf-idf"
      ],
      "metadata": {
        "id": "pkmsXesFSFly"
      },
      "id": "pkmsXesFSFly"
    },
    {
      "cell_type": "code",
      "source": [],
      "metadata": {
        "id": "lEU9VGZAGiD3"
      },
      "id": "lEU9VGZAGiD3",
      "execution_count": 100,
      "outputs": []
    }
  ],
  "metadata": {
    "kernelspec": {
      "display_name": "Python 3",
      "name": "python3"
    },
    "language_info": {
      "codemirror_mode": {
        "name": "ipython",
        "version": 3
      },
      "file_extension": ".py",
      "mimetype": "text/x-python",
      "name": "python",
      "nbconvert_exporter": "python",
      "pygments_lexer": "ipython3",
      "version": "3.8.10"
    },
    "colab": {
      "provenance": [],
      "gpuType": "T4"
    },
    "accelerator": "GPU"
  },
  "nbformat": 4,
  "nbformat_minor": 5
}